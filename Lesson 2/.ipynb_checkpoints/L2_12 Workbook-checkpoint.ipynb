{
 "cells": [
  {
   "cell_type": "markdown",
   "metadata": {},
   "source": [
    "Had a tough time with this. The 1st cell below is my naive implementation."
   ]
  },
  {
   "cell_type": "code",
   "execution_count": 157,
   "metadata": {},
   "outputs": [
    {
     "name": "stdout",
     "output_type": "stream",
     "text": [
      "(2, 2)\n"
     ]
    }
   ],
   "source": [
    "import pandas as pd\n",
    "\n",
    "def variable_correlation(var1, var2):\n",
    "    '''calculate the number of data points for which each value is above or below its mean\n",
    "    the directions of variable1 and variable2 relative to the mean are the\n",
    "    same, and the number of data points for which they are different.\n",
    "    Direction here means whether each value is above or below its mean.\n",
    "    '''\n",
    "    var1_yes = [var1 >= var1.mean()]\n",
    "    var2_yes = [var2 >= var2.mean()]\n",
    "    yes_list = []\n",
    "    for v1 in var1_yes:\n",
    "        for v2 in var2_yes:\n",
    "            yes_list.append(v1.astype(int) + v2.astype(int))   \n",
    "    num_same_direction = 0        \n",
    "    num_different_direction = 0     \n",
    "    for num in list(yes_list[0]):\n",
    "        if num == 1:\n",
    "            num_different_direction += 1\n",
    "        else:\n",
    "            num_same_direction += 1\n",
    "    return (num_same_direction, num_different_direction)\n",
    "    \n",
    "\n",
    "print variable_correlation(pd.Series([1, 2, 3, 4]), pd.Series([6, 5, 7, 4]))"
   ]
  },
  {
   "cell_type": "markdown",
   "metadata": {},
   "source": [
    "Below is how to do it properly."
   ]
  },
  {
   "cell_type": "code",
   "execution_count": 158,
   "metadata": {},
   "outputs": [
    {
     "data": {
      "text/plain": [
       "(0, 4)"
      ]
     },
     "execution_count": 158,
     "metadata": {},
     "output_type": "execute_result"
    }
   ],
   "source": [
    "def improved_correlation2(var1, var2):\n",
    "    '''Do Roger's more efficiently\n",
    "    '''\n",
    "    item_count = len(var1)\n",
    "    above = (var1 >= var1.mean()) & (var2 >= var2.mean())\n",
    "    below = (var1 <= var1.mean()) & (var2 <= var2.mean())\n",
    "    merged = (above | below)\n",
    "    num_true = merged.sum()\n",
    "    num_false = item_count - num_true\n",
    "    return (num_true, num_false)\n",
    "\n",
    "improved_correlation2(pd.Series([1, 2, 3, 4]), pd.Series([7,6,5,4]))"
   ]
  }
 ],
 "metadata": {
  "kernelspec": {
   "display_name": "Python 2",
   "language": "python",
   "name": "python2"
  },
  "language_info": {
   "codemirror_mode": {
    "name": "ipython",
    "version": 2
   },
   "file_extension": ".py",
   "mimetype": "text/x-python",
   "name": "python",
   "nbconvert_exporter": "python",
   "pygments_lexer": "ipython2",
   "version": "2.7.13"
  }
 },
 "nbformat": 4,
 "nbformat_minor": 2
}
