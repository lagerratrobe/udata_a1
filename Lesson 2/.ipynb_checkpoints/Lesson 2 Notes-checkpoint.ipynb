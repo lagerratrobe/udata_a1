{
 "cells": [
  {
   "cell_type": "markdown",
   "metadata": {},
   "source": [
    "## Pandas Series\n",
    "\n",
    "One of the nice things that Pandas provides for series are *indexes*.  Indexes can be used to identify columns, like a column header in a CSV, and to access the series data by column name.  See below the various ways that an index can be used.  NOTE: the first cell is an example of the *describe()* function, which provides a quick summary of a loaded data set.\n"
   ]
  },
  {
   "cell_type": "code",
   "execution_count": 3,
   "metadata": {},
   "outputs": [
    {
     "data": {
      "text/plain": [
       "count    20.000000\n",
       "mean     58.685000\n",
       "std       9.580862\n",
       "min      40.099998\n",
       "25%      52.900002\n",
       "50%      58.400002\n",
       "75%      66.674999\n",
       "max      75.699997\n",
       "dtype: float64"
      ]
     },
     "execution_count": 3,
     "metadata": {},
     "output_type": "execute_result"
    }
   ],
   "source": [
    "import pandas as pd\n",
    "\n",
    "# Employment data in 2007 for those 20 countries\n",
    "employment = pd.Series([55.70000076,  51.40000153,  50.5, 75.69999695, 58.40000153,\n",
    "                        40.09999847,  61.5,  57.09999847, 60.90000153,  66.59999847,\n",
    "                        60.40000153,  68.09999847, 66.90000153, 53.40000153,48.59999847,\n",
    "                        56.79999924, 71.59999847,  58.40000153,  70.40000153,  41.20000076], \n",
    "                index = ['Afghanistan', 'Albania', 'Algeria', 'Angola', 'Argentina',\n",
    "                       'Armenia', 'Australia', 'Austria', 'Azerbaijan', 'Bahamas',\n",
    "                       'Bahrain', 'Bangladesh', 'Barbados', 'Belarus', 'Belgium',\n",
    "                       'Belize', 'Benin', 'Bhutan', 'Bolivia','Bosnia and Herzegovina'])\n",
    "\n",
    "employment.describe()\n"
   ]
  },
  {
   "cell_type": "code",
   "execution_count": 4,
   "metadata": {},
   "outputs": [
    {
     "data": {
      "text/plain": [
       "Index([u'Afghanistan', u'Albania', u'Algeria', u'Angola', u'Argentina',\n",
       "       u'Armenia', u'Australia', u'Austria', u'Azerbaijan', u'Bahamas',\n",
       "       u'Bahrain', u'Bangladesh', u'Barbados', u'Belarus', u'Belgium',\n",
       "       u'Belize', u'Benin', u'Bhutan', u'Bolivia', u'Bosnia and Herzegovina'],\n",
       "      dtype='object')"
      ]
     },
     "execution_count": 4,
     "metadata": {},
     "output_type": "execute_result"
    }
   ],
   "source": [
    "employment.index"
   ]
  },
  {
   "cell_type": "code",
   "execution_count": 5,
   "metadata": {},
   "outputs": [
    {
     "data": {
      "text/plain": [
       "'Afghanistan'"
      ]
     },
     "execution_count": 5,
     "metadata": {},
     "output_type": "execute_result"
    }
   ],
   "source": [
    "employment.index[0]"
   ]
  },
  {
   "cell_type": "code",
   "execution_count": 6,
   "metadata": {},
   "outputs": [
    {
     "data": {
      "text/plain": [
       "55.700000760000002"
      ]
     },
     "execution_count": 6,
     "metadata": {},
     "output_type": "execute_result"
    }
   ],
   "source": [
    "employment[0]"
   ]
  },
  {
   "cell_type": "code",
   "execution_count": 7,
   "metadata": {},
   "outputs": [
    {
     "data": {
      "text/plain": [
       "50.5"
      ]
     },
     "execution_count": 7,
     "metadata": {},
     "output_type": "execute_result"
    }
   ],
   "source": [
    "employment.loc['Algeria']"
   ]
  },
  {
   "cell_type": "code",
   "execution_count": 9,
   "metadata": {},
   "outputs": [
    {
     "data": {
      "text/plain": [
       "'Angola'"
      ]
     },
     "execution_count": 9,
     "metadata": {},
     "output_type": "execute_result"
    }
   ],
   "source": [
    "employment.idxmax()"
   ]
  },
  {
   "cell_type": "markdown",
   "metadata": {},
   "source": [
    "Some of the index values of the *describe()* function can be accessed as individual functions themselves."
   ]
  },
  {
   "cell_type": "code",
   "execution_count": 10,
   "metadata": {},
   "outputs": [
    {
     "data": {
      "text/plain": [
       "75.699996949999999"
      ]
     },
     "execution_count": 10,
     "metadata": {},
     "output_type": "execute_result"
    }
   ],
   "source": [
    "employment.max()"
   ]
  },
  {
   "cell_type": "code",
   "execution_count": 11,
   "metadata": {},
   "outputs": [
    {
     "data": {
      "text/plain": [
       "40.099998470000003"
      ]
     },
     "execution_count": 11,
     "metadata": {},
     "output_type": "execute_result"
    }
   ],
   "source": [
    "employment.min()"
   ]
  },
  {
   "cell_type": "code",
   "execution_count": 12,
   "metadata": {},
   "outputs": [
    {
     "data": {
      "text/plain": [
       "9.580861956589192"
      ]
     },
     "execution_count": 12,
     "metadata": {},
     "output_type": "execute_result"
    }
   ],
   "source": [
    "employment.std()"
   ]
  },
  {
   "cell_type": "code",
   "execution_count": 13,
   "metadata": {},
   "outputs": [
    {
     "data": {
      "text/plain": [
       "20"
      ]
     },
     "execution_count": 13,
     "metadata": {},
     "output_type": "execute_result"
    }
   ],
   "source": [
    "employment.count()"
   ]
  },
  {
   "cell_type": "markdown",
   "metadata": {},
   "source": [
    "## Vectorized operations on Series with indexes\n",
    "\n",
    "One of the nice things about using Pandas series is that if 2 series have the same index values, vectorized operations will be done based on the index value, not the position in the series.  This means that the series don't have to be kept in order.\n"
   ]
  },
  {
   "cell_type": "code",
   "execution_count": 18,
   "metadata": {},
   "outputs": [
    {
     "name": "stdout",
     "output_type": "stream",
     "text": [
      "Example 1.\n",
      "a    11\n",
      "b    22\n",
      "c    33\n",
      "d    44\n",
      "dtype: int64\n",
      "\n",
      "Example 2.\n",
      "a    31\n",
      "b    12\n",
      "c    43\n",
      "d    24\n",
      "dtype: int64\n",
      "\n",
      "Example 3.\n",
      "a     NaN\n",
      "b     NaN\n",
      "c    13.0\n",
      "d    24.0\n",
      "e     NaN\n",
      "f     NaN\n",
      "dtype: float64\n",
      "\n",
      "Example 4.\n",
      "a   NaN\n",
      "b   NaN\n",
      "c   NaN\n",
      "d   NaN\n",
      "e   NaN\n",
      "f   NaN\n",
      "g   NaN\n",
      "h   NaN\n",
      "dtype: float64\n"
     ]
    }
   ],
   "source": [
    "# 1. Addition when indexes are the same\n",
    "if True:\n",
    "    print \"Example 1.\"\n",
    "    s1 = pd.Series([1, 2, 3, 4], index=['a', 'b', 'c', 'd'])\n",
    "    s2 = pd.Series([10, 20, 30, 40], index=['a', 'b', 'c', 'd'])\n",
    "    print s1 + s2\n",
    "\n",
    "# 2. Indexes have same elements in a different order\n",
    "if True:\n",
    "    print \"\\nExample 2.\"\n",
    "    s1 = pd.Series([1, 2, 3, 4], index=['a', 'b', 'c', 'd'])\n",
    "    s2 = pd.Series([10, 20, 30, 40], index=['b', 'd', 'a', 'c'])\n",
    "    print s1 + s2\n",
    "\n",
    "# 3. Indexes overlap, but do not have exactly the same elements\n",
    "if True:\n",
    "    print \"\\nExample 3.\"\n",
    "    s1 = pd.Series([1, 2, 3, 4], index=['a', 'b', 'c', 'd'])\n",
    "    s2 = pd.Series([10, 20, 30, 40], index=['c', 'd', 'e', 'f'])\n",
    "    print s1 + s2\n",
    "\n",
    "# 4. Indexes do not overlap\n",
    "if True:\n",
    "    print \"\\nExample 4.\"\n",
    "    s1 = pd.Series([1, 2, 3, 4], index=['a', 'b', 'c', 'd'])\n",
    "    s2 = pd.Series([10, 20, 30, 40], index=['e', 'f', 'g', 'h'])\n",
    "    print s1 + s2"
   ]
  },
  {
   "cell_type": "markdown",
   "metadata": {},
   "source": [
    "Example 3 is particularly useful, as it implies a sort of \"inner join\" logic.  In addition, the non-overlapping index values can be dropped, which yields only the intersecting values."
   ]
  },
  {
   "cell_type": "code",
   "execution_count": 20,
   "metadata": {},
   "outputs": [
    {
     "name": "stdout",
     "output_type": "stream",
     "text": [
      "\n",
      "Example 3.\n",
      "c    13.0\n",
      "d    24.0\n",
      "dtype: float64\n"
     ]
    }
   ],
   "source": [
    "# 3. Indexes overlap, but do not have exactly the same elements + dropping the non-overlap\n",
    "if True:\n",
    "    print \"\\nExample 3.\"\n",
    "    s1 = pd.Series([1, 2, 3, 4], index=['a', 'b', 'c', 'd'])\n",
    "    s2 = pd.Series([10, 20, 30, 40], index=['c', 'd', 'e', 'f'])\n",
    "    s3 = s1 + s2\n",
    "    print s3.dropna()"
   ]
  },
  {
   "cell_type": "markdown",
   "metadata": {},
   "source": [
    "It's also possible to do an 'outer join' between 2 series.  First in the stupid Roger way."
   ]
  },
  {
   "cell_type": "code",
   "execution_count": 69,
   "metadata": {
    "scrolled": false
   },
   "outputs": [
    {
     "data": {
      "text/plain": [
       "a     1\n",
       "b     2\n",
       "c    13\n",
       "d    24\n",
       "e    30\n",
       "f    40\n",
       "dtype: int64"
      ]
     },
     "execution_count": 69,
     "metadata": {},
     "output_type": "execute_result"
    }
   ],
   "source": [
    "# HOW I FIRST DID IT\n",
    "\n",
    "from collections import defaultdict\n",
    "\n",
    "s1 = pd.Series([1, 2, 3, 4], index=['a', 'b', 'c', 'd'])\n",
    "s2 = pd.Series([10, 20, 30, 40], index=['c', 'd', 'e', 'f'])\n",
    "\n",
    "zipped1 = zip(s1.index, s1)\n",
    "zipped2 = zip(s2.index, s2)\n",
    "z3 = zipped1 + zipped2\n",
    "\n",
    "foo = defaultdict(int)\n",
    "for i, j in z3:\n",
    "    foo[i] += j\n",
    "    \n",
    "outer_join = pd.Series(foo.values(), index = foo.keys()).sort_values()\n",
    "outer_join\n"
   ]
  },
  {
   "cell_type": "code",
   "execution_count": 70,
   "metadata": {},
   "outputs": [
    {
     "data": {
      "text/plain": [
       "a     1.0\n",
       "b     2.0\n",
       "c    13.0\n",
       "d    24.0\n",
       "e    30.0\n",
       "f    40.0\n",
       "dtype: float64"
      ]
     },
     "execution_count": 70,
     "metadata": {},
     "output_type": "execute_result"
    }
   ],
   "source": [
    "# A MUCH BETTER WAY TO DO IT\n",
    "\n",
    "s1 = pd.Series([1, 2, 3, 4], index=['a', 'b', 'c', 'd'])\n",
    "s2 = pd.Series([10, 20, 30, 40], index=['c', 'd', 'e', 'f'])\n",
    "\n",
    "s1.add(s2, fill_value=0)"
   ]
  },
  {
   "cell_type": "markdown",
   "metadata": {},
   "source": [
    "## Using the .apply() function\n",
    "\n",
    "Pandas Series have a useful function named *apply()* that is similar to the Python *map()* function.  IN both cases, all elements of the list or series are passed through a function and a new series is returned.\n"
   ]
  },
  {
   "cell_type": "code",
   "execution_count": 84,
   "metadata": {},
   "outputs": [
    {
     "name": "stdout",
     "output_type": "stream",
     "text": [
      "[4, 8, 12, 16]\n",
      "----\n",
      "0     4\n",
      "1     8\n",
      "2    12\n",
      "3    16\n",
      "dtype: int64\n"
     ]
    }
   ],
   "source": [
    "# Python map() example\n",
    "\n",
    "if True:\n",
    "    foo = [2,4,6,8]\n",
    "    times_2 = lambda n: n * 2\n",
    "    print map(times_2, foo)\n",
    "    \n",
    "print \"----\"\n",
    "    \n",
    "if True:\n",
    "    foo = pd.Series([2, 4, 6, 8])\n",
    "    times_2 = lambda n: n * 2\n",
    "    print foo.apply(times_2)"
   ]
  },
  {
   "cell_type": "code",
   "execution_count": 85,
   "metadata": {},
   "outputs": [
    {
     "data": {
      "text/plain": [
       "0             Agassi, Andre\n",
       "1              Bonds, Barry\n",
       "2     Columbus, Christopher\n",
       "3             Defoe, Daniel\n",
       "4           Estevez, Emilio\n",
       "5          Flintstone, Fred\n",
       "6              Garbo, Greta\n",
       "7          Humbert, Humbert\n",
       "8               Ilych, Ivan\n",
       "9              Joyce, James\n",
       "10         Knightley, Keira\n",
       "11               Lane, Lois\n",
       "12              Myers, Mike\n",
       "13              Nolte, Nick\n",
       "14           Osbourne, Ozzy\n",
       "15           Picasso, Pablo\n",
       "16       Quirrell, Quirinus\n",
       "17             Ray, Rachael\n",
       "18          Sarandon, Susan\n",
       "19             Turner, Tina\n",
       "20           Urbina, Ugueth\n",
       "21            Vaughn, Vince\n",
       "22          Wilson, Woodrow\n",
       "23             Yamada, Yoji\n",
       "24         Zidane, Zinedine\n",
       "dtype: object"
      ]
     },
     "execution_count": 85,
     "metadata": {},
     "output_type": "execute_result"
    }
   ],
   "source": [
    "# Pandas apply() example\n",
    "\n",
    "import pandas as pd\n",
    "\n",
    "names = pd.Series(['Andre Agassi','Barry Bonds','Christopher Columbus','Daniel Defoe','Emilio Estevez',\n",
    "                   'Fred Flintstone','Greta Garbo','Humbert Humbert','Ivan Ilych','James Joyce',\n",
    "                   'Keira Knightley','Lois Lane','Mike Myers','Nick Nolte','Ozzy Osbourne','Pablo Picasso',\n",
    "                   'Quirinus Quirrell','Rachael Ray','Susan Sarandon','Tina Turner','Ugueth Urbina',\n",
    "                   'Vince Vaughn','Woodrow Wilson','Yoji Yamada','Zinedine Zidane'])\n",
    "\n",
    "def reverse_names(names):\n",
    "    '''Use Pandas .apply() to return a new series where: \n",
    "    \"Firstname Lastname\" is transformed to \"Lastname, FirstName\".\n",
    "    '''\n",
    "    def flip_name(name):\n",
    "        first, last = name.split()\n",
    "        new_name = \"%s, %s\" % (last, first)\n",
    "        return new_name\n",
    "    new_names = names.apply(flip_name)  \n",
    "    return new_names\n",
    "\n",
    "reverse_names(names)"
   ]
  }
 ],
 "metadata": {
  "kernelspec": {
   "display_name": "Python 2",
   "language": "python",
   "name": "python2"
  },
  "language_info": {
   "codemirror_mode": {
    "name": "ipython",
    "version": 2
   },
   "file_extension": ".py",
   "mimetype": "text/x-python",
   "name": "python",
   "nbconvert_exporter": "python",
   "pygments_lexer": "ipython2",
   "version": "2.7.13"
  }
 },
 "nbformat": 4,
 "nbformat_minor": 2
}
