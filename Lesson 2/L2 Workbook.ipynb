{
 "cells": [
  {
   "cell_type": "code",
   "execution_count": 1,
   "metadata": {
    "scrolled": false
   },
   "outputs": [
    {
     "name": "stdout",
     "output_type": "stream",
     "text": [
      "Afghanistan - 55.700001\n"
     ]
    }
   ],
   "source": [
    "import unicodecsv\n",
    "import numpy as np\n",
    "\n",
    "with open('employment_above_15.csv', 'rb') as f:\n",
    "    reader = unicodecsv.DictReader(f)\n",
    "    employment_data = list(reader)\n",
    "    \n",
    "country_names = []\n",
    "annual_data = []\n",
    "\n",
    "for record in employment_data:\n",
    "    country = record['Country']\n",
    "    data = float(record['2007'])\n",
    "    country_names.append(country)\n",
    "    annual_data.append(data)\n",
    "\n",
    "countries = np.array(country_names)\n",
    "employment = np.array(annual_data)\n",
    "\n",
    "print \"%s - %f\" % (countries[0], employment[0])\n"
   ]
  },
  {
   "cell_type": "code",
   "execution_count": 2,
   "metadata": {},
   "outputs": [
    {
     "name": "stdout",
     "output_type": "stream",
     "text": [
      "Afghanistan\n",
      "Angola\n"
     ]
    }
   ],
   "source": [
    "## Change False to True for each block of code to see what it does\n",
    "\n",
    "# Accessing elements\n",
    "if True:\n",
    "    print countries[0]\n",
    "    print countries[3]\n"
   ]
  },
  {
   "cell_type": "code",
   "execution_count": 3,
   "metadata": {},
   "outputs": [
    {
     "name": "stdout",
     "output_type": "stream",
     "text": [
      "[u'Afghanistan' u'Albania' u'Algeria']\n",
      "[u'Afghanistan' u'Albania' u'Algeria']\n",
      "178\n",
      "[u'Uruguay' u'Uzbekistan' u'Venezuela' u'Vietnam' u'West Bank and Gaza'\n",
      " u'Yemen, Rep.' u'Zambia' u'Zimbabwe']\n"
     ]
    }
   ],
   "source": [
    "# Slicing\n",
    "if True:\n",
    "    print countries[0:3]\n",
    "    print countries[:3]\n",
    "    print len(countries)\n",
    "    print countries[170:]\n",
    "    #print countries[:]\n",
    "    "
   ]
  },
  {
   "cell_type": "code",
   "execution_count": 4,
   "metadata": {},
   "outputs": [
    {
     "name": "stdout",
     "output_type": "stream",
     "text": [
      "1. <U22\n",
      "2. float64\n",
      "3. int64\n",
      "4. float64\n",
      "5. bool\n",
      "6. |S2\n"
     ]
    }
   ],
   "source": [
    "# Element types\n",
    "if True:\n",
    "    print \"1.\", countries.dtype\n",
    "    print \"2.\", employment.dtype\n",
    "    print \"3.\", np.array([0, 1, 2, 3]).dtype\n",
    "    print \"4.\", np.array([1.0, 1.5, 2.0, 2.5]).dtype\n",
    "    print \"5.\", np.array([True, False, True]).dtype\n",
    "    print \"6.\", np.array(['AL', 'AK', 'AZ', 'AR', 'CA']).dtype\n",
    "    "
   ]
  },
  {
   "cell_type": "code",
   "execution_count": 10,
   "metadata": {
    "scrolled": true
   },
   "outputs": [
    {
     "name": "stdout",
     "output_type": "stream",
     "text": [
      "Examining country Afghanistan\n",
      "Examining country Albania\n",
      "Examining country Algeria\n",
      "Examining country Angola\n",
      "Examining country Argentina\n",
      "Examining country Armenia\n",
      "Examining country Australia\n",
      "Examining country Austria\n",
      "Examining country Azerbaijan\n",
      "Examining country Bahamas\n",
      "Country Afghanistan has employment 55.70\n",
      "Country Albania has employment 51.40\n",
      "Country Algeria has employment 50.50\n",
      "Country Angola has employment 75.70\n",
      "Country Argentina has employment 58.40\n",
      "Country Armenia has employment 40.10\n",
      "Country Australia has employment 61.50\n",
      "Country Austria has employment 57.10\n",
      "Country Azerbaijan has employment 60.90\n",
      "Country Bahamas has employment 66.60\n",
      "Country Bahrain has employment 60.40\n",
      "Country Bangladesh has employment 68.10\n",
      "Country Barbados has employment 66.90\n",
      "Country Belarus has employment 53.40\n",
      "Country Belgium has employment 48.60\n",
      "Country Belize has employment 56.80\n",
      "Country Benin has employment 71.60\n",
      "Country Bhutan has employment 58.40\n",
      "Country Bolivia has employment 70.40\n",
      "Country Bosnia and Herzegovina has employment 41.20\n",
      "Country Botswana has employment 46.00\n",
      "Country Brazil has employment 64.50\n",
      "Country Brunei has employment 63.80\n",
      "Country Bulgaria has employment 47.30\n",
      "Country Burkina Faso has employment 81.30\n",
      "Country Burundi has employment 83.20\n",
      "Country Cambodia has employment 78.90\n",
      "Country Cameroon has employment 59.10\n",
      "Country Canada has employment 63.50\n",
      "Country Cape Verde has employment 55.90\n",
      "Country Central African Rep. has employment 71.30\n",
      "Country Chad has employment 68.90\n",
      "Country Chile has employment 51.00\n",
      "Country China has employment 72.80\n",
      "Country Colombia has employment 63.20\n",
      "Country Comoros has employment 68.00\n",
      "Country Congo, Rep. has employment 64.20\n",
      "Country Congo, Dem. Rep. has employment 66.20\n",
      "Country Costa Rica has employment 58.60\n",
      "Country Cote d'Ivoire has employment 59.90\n",
      "Country Croatia has employment 47.10\n",
      "Country Cuba has employment 56.00\n",
      "Country Cyprus has employment 59.10\n",
      "Country Czech Rep. has employment 56.00\n",
      "Country Denmark has employment 63.10\n",
      "Country Dominican Rep. has employment 52.70\n",
      "Country Timor-Leste has employment 67.30\n",
      "Country Ecuador has employment 59.70\n",
      "Country Egypt has employment 42.40\n",
      "Country El Salvador has employment 58.20\n",
      "Country Equatorial Guinea has employment 61.70\n",
      "Country Eritrea has employment 64.90\n",
      "Country Estonia has employment 56.50\n",
      "Country Ethiopia has employment 80.70\n",
      "Country Fiji has employment 56.40\n",
      "Country Finland has employment 57.20\n",
      "Country France has employment 51.20\n",
      "Country Gabon has employment 59.00\n",
      "Country Gambia has employment 71.70\n",
      "Country Georgia has employment 55.60\n",
      "Country Germany has employment 53.50\n",
      "Country Ghana has employment 65.10\n",
      "Country Greece has employment 49.60\n",
      "Country Guadeloupe has employment 43.10\n",
      "Country Guatemala has employment 62.70\n",
      "Country Guinea has employment 81.50\n",
      "Country Guinea-Bissau has employment 65.90\n",
      "Country Guyana has employment 58.90\n",
      "Country Haiti has employment 55.90\n",
      "Country Honduras has employment 56.30\n",
      "Country Hong Kong, China has employment 59.00\n",
      "Country Hungary has employment 47.30\n",
      "Country Iceland has employment 73.60\n",
      "Country India has employment 55.40\n",
      "Country Indonesia has employment 61.50\n",
      "Country Iran has employment 47.80\n",
      "Country Iraq has employment 37.40\n",
      "Country Ireland has employment 59.90\n",
      "Country Israel has employment 51.30\n",
      "Country Italy has employment 46.40\n",
      "Country Jamaica has employment 58.20\n",
      "Country Japan has employment 57.30\n",
      "Country Jordan has employment 38.90\n",
      "Country Kazakhstan has employment 63.70\n",
      "Country Kenya has employment 73.20\n",
      "Country Korea, Dem. Rep. has employment 64.60\n",
      "Country Korea, Rep. has employment 58.90\n",
      "Country Kuwait has employment 65.70\n",
      "Country Kyrgyzstan has employment 58.90\n",
      "Country Laos has employment 78.20\n",
      "Country Latvia has employment 56.80\n",
      "Country Lebanon has employment 46.00\n",
      "Country Lesotho has employment 56.30\n",
      "Country Liberia has employment 66.00\n",
      "Country Libya has employment 48.60\n",
      "Country Lithuania has employment 53.10\n",
      "Country Luxembourg has employment 53.50\n",
      "Country Macao, China has employment 63.60\n",
      "Country Madagascar has employment 83.00\n",
      "Country Malawi has employment 71.80\n",
      "Country Malaysia has employment 60.50\n",
      "Country Maldives has employment 56.90\n",
      "Country Mali has employment 45.70\n",
      "Country Malta has employment 46.80\n",
      "Country Martinique has employment 42.50\n",
      "Country Mauritania has employment 46.90\n",
      "Country Mauritius has employment 54.50\n",
      "Country Mexico has employment 57.90\n",
      "Country Mongolia has employment 52.10\n",
      "Country Morocco has employment 46.20\n",
      "Country Mozambique has employment 77.00\n",
      "Country Myanmar has employment 74.70\n",
      "Country Namibia has employment 42.00\n",
      "Country Nepal has employment 61.80\n",
      "Country Netherlands has employment 61.30\n",
      "Country Netherlands Antilles has employment 53.50\n",
      "Country New Zealand has employment 65.00\n",
      "Country Nicaragua has employment 58.80\n",
      "Country Niger has employment 60.40\n",
      "Country Nigeria has employment 50.90\n",
      "Country Norway has employment 65.00\n",
      "Country Oman has employment 50.70\n",
      "Country Pakistan has employment 51.00\n",
      "Country Panama has employment 59.80\n",
      "Country Papua New Guinea has employment 70.40\n",
      "Country Paraguay has employment 73.10\n",
      "Country Peru has employment 68.30\n",
      "Country Philippines has employment 61.00\n",
      "Country Poland has employment 48.70\n",
      "Country Portugal has employment 57.60\n",
      "Country Puerto Rico has employment 42.40\n",
      "Country Qatar has employment 76.00\n",
      "Country Moldova has employment 44.30\n",
      "Country Reunion has employment 44.20\n",
      "Country Romania has employment 49.50\n",
      "Country Russia has employment 58.80\n",
      "Country Rwanda has employment 79.80\n",
      "Country Saudi Arabia has employment 51.20\n",
      "Country Senegal has employment 65.60\n",
      "Country Serbia and Montenegro has employment 48.70\n",
      "Country Sierra Leone has employment 63.80\n",
      "Country Singapore has employment 62.40\n",
      "Country Slovak Republic has employment 53.40\n",
      "Country Slovenia has employment 55.90\n",
      "Country Solomon Islands has employment 65.00\n",
      "Country Somalia has employment 66.00\n",
      "Country South Africa has employment 41.10\n",
      "Country Spain has employment 52.50\n",
      "Country Sri Lanka has employment 55.10\n",
      "Country Sudan has employment 47.30\n",
      "Country Suriname has employment 44.70\n",
      "Country Swaziland has employment 50.90\n",
      "Country Sweden has employment 60.70\n",
      "Country Switzerland has employment 64.30\n",
      "Country Syria has employment 44.80\n",
      "Country Taiwan has employment 54.50\n",
      "Country Tajikistan has employment 54.60\n",
      "Country Tanzania has employment 78.20\n",
      "Country Thailand has employment 72.00\n",
      "Country Macedonia, FYR has employment 34.90\n",
      "Country Togo has employment 63.90\n",
      "Country Trinidad and Tobago has employment 61.50\n",
      "Country Tunisia has employment 41.60\n",
      "Country Turkey has employment 42.80\n",
      "Country Turkmenistan has employment 58.50\n",
      "Country Uganda has employment 83.20\n",
      "Country Ukraine has employment 54.40\n",
      "Country United Arab Emirates has employment 75.20\n",
      "Country United Kingdom has employment 59.30\n",
      "Country United States has employment 62.30\n",
      "Country Uruguay has employment 57.50\n",
      "Country Uzbekistan has employment 57.50\n",
      "Country Venezuela has employment 59.90\n",
      "Country Vietnam has employment 71.00\n",
      "Country West Bank and Gaza has employment 32.00\n",
      "Country Yemen, Rep. has employment 39.00\n",
      "Country Zambia has employment 61.00\n",
      "Country Zimbabwe has employment 66.80\n"
     ]
    }
   ],
   "source": [
    "# Looping\n",
    "if True:\n",
    "    for country in countries[0:10]:\n",
    "        print 'Examining country {}'.format(country)\n",
    "\n",
    "## Replace this logic and use ndenumerate instead\n",
    "#    for i in range(len(countries)):\n",
    "#        country = countries[i]\n",
    "#        country_employment = employment[i]\n",
    "#        print 'Country {} has employment {}'.format(country, country_employment)\n",
    "        \n",
    "    for i, country in np.ndenumerate(countries):\n",
    "        country_employment = employment[i]\n",
    "        print 'Country %s has employment %.2f' % (country, country_employment)        \n",
    "        "
   ]
  },
  {
   "cell_type": "code",
   "execution_count": 17,
   "metadata": {},
   "outputs": [
    {
     "name": "stdout",
     "output_type": "stream",
     "text": [
      "Employment Mean: \t58.64\n",
      "Employment Std Dev: \t10.49\n",
      "Employment Max: \t83.20\n",
      "Employment Total: \t10437.20\n"
     ]
    }
   ],
   "source": [
    "# Numpy functions\n",
    "if True:\n",
    "    print \"Employment Mean: \\t%.2f\" % (employment.mean())\n",
    "    print \"Employment Std Dev: \\t%.2f\" % (employment.std())\n",
    "    print \"Employment Max: \\t%.2f\" % (employment.max())\n",
    "    print \"Employment Total: \\t%.2f\" % (employment.sum())\n",
    "    "
   ]
  },
  {
   "cell_type": "code",
   "execution_count": 19,
   "metadata": {},
   "outputs": [
    {
     "data": {
      "text/plain": [
       "(u'Burundi', 83.199996948199995)"
      ]
     },
     "execution_count": 19,
     "metadata": {},
     "output_type": "execute_result"
    }
   ],
   "source": [
    "\n",
    "def max_employment(countries, employment):\n",
    "    '''\n",
    "    Fill in this function to return the name of the country\n",
    "    with the highest employment in the given employment\n",
    "    data, and the employment in that country.\n",
    "    '''\n",
    "    highest_i = 0\n",
    "    highest_employment = 0\n",
    "\n",
    "    for i, employment_value in enumerate(employment):\n",
    "        if employment_value > highest_employment:\n",
    "            highest_i = i\n",
    "            highest_employment = employment_value\n",
    "    max_country = countries[highest_i]      # Replace this with your code\n",
    "    max_value = highest_employment   # Replace this with your code\n",
    "    return (max_country, max_value)\n",
    "\n",
    "max_employment(countries, employment)"
   ]
  },
  {
   "cell_type": "code",
   "execution_count": 20,
   "metadata": {},
   "outputs": [
    {
     "data": {
      "text/plain": [
       "(u'Burundi', 83.199996948199995)"
      ]
     },
     "execution_count": 20,
     "metadata": {},
     "output_type": "execute_result"
    }
   ],
   "source": [
    "def max_employment(countries, employment):\n",
    "    '''\n",
    "    Fill in this function to return the name of the country\n",
    "    with the highest employment in the given employment\n",
    "    data, and the employment in that country.\n",
    "    '''\n",
    "    highest_i = employment.argmax()\n",
    "    max_country = countries[highest_i]      # Replace this with your code\n",
    "    max_value = employment[highest_i]   # Replace this with your code\n",
    "    return (max_country, max_value)\n",
    "\n",
    "max_employment(countries, employment)"
   ]
  }
 ],
 "metadata": {
  "kernelspec": {
   "display_name": "Python 2",
   "language": "python",
   "name": "python2"
  },
  "language_info": {
   "codemirror_mode": {
    "name": "ipython",
    "version": 2
   },
   "file_extension": ".py",
   "mimetype": "text/x-python",
   "name": "python",
   "nbconvert_exporter": "python",
   "pygments_lexer": "ipython2",
   "version": "2.7.13"
  }
 },
 "nbformat": 4,
 "nbformat_minor": 2
}
