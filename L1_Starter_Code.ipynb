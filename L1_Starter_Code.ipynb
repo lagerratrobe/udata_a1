{
 "cells": [
  {
   "cell_type": "markdown",
   "metadata": {},
   "source": [
    "Before we get started, a couple of reminders to keep in mind when using iPython notebooks:\n",
    "\n",
    "- Remember that you can see from the left side of a code cell when it was last run if there is a number within the brackets.\n",
    "- When you start a new notebook session, make sure you run all of the cells up to the point where you last left off. Even if the output is still visible from when you ran the cells in your previous session, the kernel starts in a fresh state so you'll need to reload the data, etc. on a new session.\n",
    "- The previous point is useful to keep in mind if your answers do not match what is expected in the lesson's quizzes. Try reloading the data and run all of the processing steps one by one in order to make sure that you are working with the same variables and data that are at each quiz stage.\n",
    "\n",
    "\n",
    "## Load Data from CSVs"
   ]
  },
  {
   "cell_type": "code",
   "execution_count": 80,
   "metadata": {},
   "outputs": [
    {
     "data": {
      "text/plain": [
       "{u'account_key': u'448',\n",
       " u'cancel_date': u'2015-01-14',\n",
       " u'days_to_cancel': u'65',\n",
       " u'is_canceled': u'True',\n",
       " u'is_udacity': u'True',\n",
       " u'join_date': u'2014-11-10',\n",
       " u'status': u'canceled'}"
      ]
     },
     "execution_count": 80,
     "metadata": {},
     "output_type": "execute_result"
    }
   ],
   "source": [
    "import unicodecsv\n",
    "\n",
    "## Longer version of code (replaced with shorter, equivalent version below)\n",
    "\n",
    "# enrollments = []\n",
    "# f = open('enrollments.csv', 'rb')\n",
    "# reader = unicodecsv.DictReader(f)\n",
    "# for row in reader:\n",
    "#     enrollments.append(row)\n",
    "# f.close()\n",
    "\n",
    "with open('enrollments.csv', 'rb') as f:\n",
    "    reader = unicodecsv.DictReader(f)\n",
    "    enrollments = list(reader)\n",
    "    \n",
    "enrollments[0]\n"
   ]
  },
  {
   "cell_type": "code",
   "execution_count": 81,
   "metadata": {},
   "outputs": [
    {
     "name": "stdout",
     "output_type": "stream",
     "text": [
      "{u'lessons_completed': u'0.0', u'num_courses_visited': u'1.0', u'total_minutes_visited': u'11.6793745', u'projects_completed': u'0.0', u'acct': u'0', u'utc_date': u'2015-01-09'} \n",
      "\n",
      "{u'lesson_key': u'3176718735', u'processing_state': u'EVALUATED', u'account_key': u'256', u'assigned_rating': u'UNGRADED', u'completion_date': u'2015-01-16', u'creation_date': u'2015-01-14'} \n",
      "\n",
      "{u'status': u'canceled', u'is_udacity': u'True', u'is_canceled': u'True', u'join_date': u'2014-11-10', u'account_key': u'448', u'cancel_date': u'2015-01-14', u'days_to_cancel': u'65'} \n",
      "\n"
     ]
    }
   ],
   "source": [
    "#####################################\n",
    "#                 1                 #\n",
    "#####################################\n",
    "\n",
    "## Read in the data from daily_engagement.csv and project_submissions.csv \n",
    "## and store the results in the below variables.\n",
    "## Then look at the first row of each table.\n",
    "\n",
    "def get_recs(filename):\n",
    "    with open(filename, 'rb') as f:\n",
    "        f_reader = unicodecsv.DictReader(f)\n",
    "        f_list = list(f_reader)\n",
    "        return f_list\n",
    "    \n",
    "daily_engagement = get_recs('daily_engagement.csv')\n",
    "project_submissions = get_recs('project_submissions.csv')\n",
    "\n",
    "print daily_engagement[0],\"\\n\"\n",
    "print project_submissions[0],\"\\n\"\n",
    "print enrollments[0],\"\\n\""
   ]
  },
  {
   "cell_type": "markdown",
   "metadata": {},
   "source": [
    "## Fixing Data Types"
   ]
  },
  {
   "cell_type": "code",
   "execution_count": 82,
   "metadata": {},
   "outputs": [
    {
     "data": {
      "text/plain": [
       "{u'account_key': u'448',\n",
       " u'cancel_date': datetime.datetime(2015, 1, 14, 0, 0),\n",
       " u'days_to_cancel': 65,\n",
       " u'is_canceled': True,\n",
       " u'is_udacity': True,\n",
       " u'join_date': datetime.datetime(2014, 11, 10, 0, 0),\n",
       " u'status': u'canceled'}"
      ]
     },
     "execution_count": 82,
     "metadata": {},
     "output_type": "execute_result"
    }
   ],
   "source": [
    "from datetime import datetime as dt\n",
    "\n",
    "# Takes a date as a string, and returns a Python datetime object. \n",
    "# If there is no date given, returns None\n",
    "def parse_date(date):\n",
    "    if date == '':\n",
    "        return None\n",
    "    else:\n",
    "        return dt.strptime(date, '%Y-%m-%d')\n",
    "    \n",
    "# Takes a string which is either an empty string or represents an integer,\n",
    "# and returns an int or None.\n",
    "def parse_maybe_int(i):\n",
    "    if i == '':\n",
    "        return None\n",
    "    else:\n",
    "        return int(i)\n",
    "\n",
    "# Clean up the data types in the enrollments table\n",
    "for enrollment in enrollments:\n",
    "    enrollment['cancel_date'] = parse_date(enrollment['cancel_date'])\n",
    "    enrollment['days_to_cancel'] = parse_maybe_int(enrollment['days_to_cancel'])\n",
    "    enrollment['is_canceled'] = enrollment['is_canceled'] == 'True'\n",
    "    enrollment['is_udacity'] = enrollment['is_udacity'] == 'True'\n",
    "    enrollment['join_date'] = parse_date(enrollment['join_date'])\n",
    "    \n",
    "enrollments[0]"
   ]
  },
  {
   "cell_type": "code",
   "execution_count": 83,
   "metadata": {},
   "outputs": [
    {
     "data": {
      "text/plain": [
       "{u'acct': u'0',\n",
       " u'lessons_completed': 0,\n",
       " u'num_courses_visited': 1,\n",
       " u'projects_completed': 0,\n",
       " u'total_minutes_visited': 11.6793745,\n",
       " u'utc_date': datetime.datetime(2015, 1, 9, 0, 0)}"
      ]
     },
     "execution_count": 83,
     "metadata": {},
     "output_type": "execute_result"
    }
   ],
   "source": [
    "# Clean up the data types in the engagement table\n",
    "for engagement_record in daily_engagement:\n",
    "    engagement_record['lessons_completed'] = int(float(engagement_record['lessons_completed']))\n",
    "    engagement_record['num_courses_visited'] = int(float(engagement_record['num_courses_visited']))\n",
    "    engagement_record['projects_completed'] = int(float(engagement_record['projects_completed']))\n",
    "    engagement_record['total_minutes_visited'] = float(engagement_record['total_minutes_visited'])\n",
    "    engagement_record['utc_date'] = parse_date(engagement_record['utc_date'])\n",
    "    \n",
    "daily_engagement[0]"
   ]
  },
  {
   "cell_type": "code",
   "execution_count": 84,
   "metadata": {},
   "outputs": [
    {
     "data": {
      "text/plain": [
       "{u'account_key': u'256',\n",
       " u'assigned_rating': u'UNGRADED',\n",
       " u'completion_date': datetime.datetime(2015, 1, 16, 0, 0),\n",
       " u'creation_date': datetime.datetime(2015, 1, 14, 0, 0),\n",
       " u'lesson_key': u'3176718735',\n",
       " u'processing_state': u'EVALUATED'}"
      ]
     },
     "execution_count": 84,
     "metadata": {},
     "output_type": "execute_result"
    }
   ],
   "source": [
    "# Clean up the data types in the submissions table\n",
    "for submission in project_submissions:\n",
    "    submission['completion_date'] = parse_date(submission['completion_date'])\n",
    "    submission['creation_date'] = parse_date(submission['creation_date'])\n",
    "\n",
    "project_submissions[0]"
   ]
  },
  {
   "cell_type": "markdown",
   "metadata": {},
   "source": [
    "Note when running the above cells that we are actively changing the contents of our data variables. If you try to run these cells multiple times in the same session, an error will occur.\n",
    "\n",
    "## Investigating the Data"
   ]
  },
  {
   "cell_type": "code",
   "execution_count": 85,
   "metadata": {},
   "outputs": [
    {
     "name": "stdout",
     "output_type": "stream",
     "text": [
      "Row count: 1640, Student count: 1302\n",
      "Row count: 136240, Student count: 1237\n",
      "Row count: 3642, Student count: 743\n"
     ]
    }
   ],
   "source": [
    "#####################################\n",
    "#                 2                 #\n",
    "#####################################\n",
    "\n",
    "## Find the total number of rows and the number of unique students (account keys)\n",
    "## in each table.\n",
    "def table_summary(table):\n",
    "    '''Using sets instead of checking list. Returns set of student ids and row count of table'''\n",
    "    num_rows = len(table)\n",
    "    student_ids = set()\n",
    "    for rec in table:\n",
    "        if 'account_key' in rec:\n",
    "            id = rec['account_key']\n",
    "        elif 'acct' in rec:\n",
    "            id = rec['acct']\n",
    "        student_ids.add(id)\n",
    "    return {'row_ct': num_rows, 'students': student_ids}\n",
    "\n",
    "# NOTE THAT WE\"LL WANT THESE LATER TO COMPARE SETS\n",
    "enrollment_summary = table_summary(enrollments)\n",
    "engagement_summary = table_summary(daily_engagement)\n",
    "project_summary = table_summary(project_submissions)\n",
    "\n",
    "for summary in [enrollment_summary, engagement_summary, project_summary]:\n",
    "    print \"Row count: %d, Student count: %d\" % (summary['row_ct'], len(summary['students']))"
   ]
  },
  {
   "cell_type": "markdown",
   "metadata": {},
   "source": [
    "## Problems in the Data"
   ]
  },
  {
   "cell_type": "code",
   "execution_count": 86,
   "metadata": {},
   "outputs": [
    {
     "data": {
      "text/plain": [
       "u'0'"
      ]
     },
     "execution_count": 86,
     "metadata": {},
     "output_type": "execute_result"
    }
   ],
   "source": [
    "#####################################\n",
    "#                 3                 #\n",
    "#####################################\n",
    "\n",
    "## Rename the \"acct\" column in the daily_engagement table to \"account_key\".\n",
    "def key_rename(table, names):\n",
    "    '''Rename the \"acct\" column in the daily_engagement table to \"account_key\"'''\n",
    "    for rec in table:\n",
    "        old_name = names['old']\n",
    "        new_name = names['new']\n",
    "        if old_name in rec:\n",
    "            rec[new_name] = rec.pop(old_name)\n",
    "\n",
    "key_rename(daily_engagement, {'old':'acct', 'new':'account_key'})\n",
    "daily_engagement[0]['account_key']"
   ]
  },
  {
   "cell_type": "markdown",
   "metadata": {},
   "source": [
    "## Missing Engagement Records"
   ]
  },
  {
   "cell_type": "code",
   "execution_count": 87,
   "metadata": {},
   "outputs": [
    {
     "name": "stdout",
     "output_type": "stream",
     "text": [
      "{u'status': u'canceled', u'is_udacity': False, u'is_canceled': True, u'join_date': datetime.datetime(2015, 4, 4, 0, 0), u'account_key': u'1145', u'cancel_date': datetime.datetime(2015, 4, 4, 0, 0), u'days_to_cancel': 0}\n"
     ]
    }
   ],
   "source": [
    "#####################################\n",
    "#                 4                 #\n",
    "#####################################\n",
    "\n",
    "## Find any one student enrollments where the student is missing from the daily engagement table.\n",
    "## Output that enrollment.\n",
    "enrolled_students = enrollment_summary['students']\n",
    "engaged_students = engagement_summary['students']\n",
    "missing_students = [x for x in enrolled_students if x not in engaged_students]\n",
    "\n",
    "for enrollment in enrollments:\n",
    "    if enrollment['account_key'] == missing_students[0]:\n",
    "        print enrollment"
   ]
  },
  {
   "cell_type": "markdown",
   "metadata": {},
   "source": [
    "## Checking for More Problem Records"
   ]
  },
  {
   "cell_type": "code",
   "execution_count": 88,
   "metadata": {},
   "outputs": [
    {
     "name": "stdout",
     "output_type": "stream",
     "text": [
      "{u'status': u'canceled', u'is_udacity': True, u'is_canceled': True, u'join_date': datetime.datetime(2015, 1, 10, 0, 0), u'account_key': u'1304', u'cancel_date': datetime.datetime(2015, 3, 10, 0, 0), u'days_to_cancel': 59}\n",
      "{u'status': u'canceled', u'is_udacity': True, u'is_canceled': True, u'join_date': datetime.datetime(2015, 3, 10, 0, 0), u'account_key': u'1304', u'cancel_date': datetime.datetime(2015, 6, 17, 0, 0), u'days_to_cancel': 99}\n",
      "{u'status': u'current', u'is_udacity': True, u'is_canceled': False, u'join_date': datetime.datetime(2015, 2, 25, 0, 0), u'account_key': u'1101', u'cancel_date': None, u'days_to_cancel': None}\n"
     ]
    }
   ],
   "source": [
    "#####################################\n",
    "#                 5                 #\n",
    "#####################################\n",
    "\n",
    "## Find the number of surprising data points (enrollments missing from\n",
    "## the engagement table) that remain, if any.\n",
    "for enrollment in enrollments:\n",
    "    if enrollment['account_key'] in missing_students:\n",
    "        if enrollment['days_to_cancel'] > 0 or not enrollment['is_canceled']:\n",
    "            print enrollment\n",
    "        "
   ]
  },
  {
   "cell_type": "markdown",
   "metadata": {},
   "source": [
    "## Tracking Down the Remaining Problems"
   ]
  },
  {
   "cell_type": "code",
   "execution_count": 89,
   "metadata": {},
   "outputs": [
    {
     "data": {
      "text/plain": [
       "6"
      ]
     },
     "execution_count": 89,
     "metadata": {},
     "output_type": "execute_result"
    }
   ],
   "source": [
    "# Create a set of the account keys for all Udacity test accounts\n",
    "udacity_test_accounts = set()\n",
    "for enrollment in enrollments:\n",
    "    if enrollment['is_udacity']:\n",
    "        udacity_test_accounts.add(enrollment['account_key'])\n",
    "len(udacity_test_accounts)"
   ]
  },
  {
   "cell_type": "code",
   "execution_count": 90,
   "metadata": {
    "collapsed": true
   },
   "outputs": [],
   "source": [
    "# Given some data with an account_key field, removes any records corresponding to Udacity test accounts\n",
    "def remove_udacity_accounts(data):\n",
    "    non_udacity_data = []\n",
    "    for data_point in data:\n",
    "        if data_point['account_key'] not in udacity_test_accounts:\n",
    "            non_udacity_data.append(data_point)\n",
    "    return non_udacity_data"
   ]
  },
  {
   "cell_type": "code",
   "execution_count": 91,
   "metadata": {},
   "outputs": [
    {
     "name": "stdout",
     "output_type": "stream",
     "text": [
      "1622\n",
      "135656\n",
      "3634\n"
     ]
    }
   ],
   "source": [
    "# Remove Udacity test accounts from all three tables\n",
    "non_udacity_enrollments = remove_udacity_accounts(enrollments)\n",
    "non_udacity_engagement = remove_udacity_accounts(daily_engagement)\n",
    "non_udacity_submissions = remove_udacity_accounts(project_submissions)\n",
    "\n",
    "print len(non_udacity_enrollments)\n",
    "print len(non_udacity_engagement)\n",
    "print len(non_udacity_submissions)"
   ]
  },
  {
   "cell_type": "markdown",
   "metadata": {},
   "source": [
    "## Refining the Question"
   ]
  },
  {
   "cell_type": "code",
   "execution_count": 92,
   "metadata": {},
   "outputs": [
    {
     "data": {
      "text/plain": [
       "995"
      ]
     },
     "execution_count": 92,
     "metadata": {},
     "output_type": "execute_result"
    }
   ],
   "source": [
    "#####################################\n",
    "#                 6                 #\n",
    "#####################################\n",
    "\n",
    "## Create a dictionary named paid_students containing all students who either\n",
    "## haven't canceled yet or who remained enrolled for more than 7 days. The keys\n",
    "## should be account keys, and the values should be the date the student enrolled.\n",
    "def find_paid_students():\n",
    "    paid_students = {}\n",
    "    for student in non_udacity_enrollments:\n",
    "        if not student['is_canceled'] or student['days_to_cancel'] > 7:\n",
    "            account_key = student['account_key'] \n",
    "            start_date = student['join_date']\n",
    "            if account_key not in paid_students or start_date > paid_students[account_key]:\n",
    "                paid_students[account_key] = start_date\n",
    "    return paid_students\n",
    "\n",
    "paid_students = find_paid_students()\n",
    "len(paid_students)\n"
   ]
  },
  {
   "cell_type": "markdown",
   "metadata": {},
   "source": [
    "## Getting Data from First Week"
   ]
  },
  {
   "cell_type": "code",
   "execution_count": 93,
   "metadata": {
    "collapsed": true
   },
   "outputs": [],
   "source": [
    "# Takes a student's join date and the date of a specific engagement record,\n",
    "# and returns True if that engagement record happened within one week\n",
    "# of the student joining.\n",
    "def within_one_week(join_date, engagement_date):\n",
    "    time_delta = engagement_date - join_date\n",
    "    return time_delta.days < 7 and time_delta.days >= 0"
   ]
  },
  {
   "cell_type": "code",
   "execution_count": 94,
   "metadata": {},
   "outputs": [
    {
     "data": {
      "text/plain": [
       "6919"
      ]
     },
     "execution_count": 94,
     "metadata": {},
     "output_type": "execute_result"
    }
   ],
   "source": [
    "#####################################\n",
    "#                 7                 #\n",
    "#####################################\n",
    "\n",
    "## Create a list of rows from the engagement table including only rows where\n",
    "## the student is one of the paid students you just found, and the date is within\n",
    "## one week of the student's join date.\n",
    "def within_one_week(join_date, engagement_date):\n",
    "    time_delta = engagement_date - join_date\n",
    "    return time_delta.days < 7 and time_delta.days >= 0\n",
    "\n",
    "def find_first_week_engagement(paid_students):\n",
    "    engagement_list = []\n",
    "    for student in paid_students:\n",
    "        join_date = paid_students[student]\n",
    "        for engagement in non_udacity_engagement:\n",
    "            if student == engagement['account_key']:\n",
    "                if within_one_week(join_date, engagement['utc_date']):\n",
    "                    engagement_list.append(engagement)\n",
    "    return engagement_list\n",
    "            \n",
    "paid_engagement_in_first_week = find_first_week_engagement(paid_students)\n",
    "len(paid_engagement_in_first_week)"
   ]
  },
  {
   "cell_type": "markdown",
   "metadata": {},
   "source": [
    "## Exploring Student Engagement"
   ]
  },
  {
   "cell_type": "code",
   "execution_count": 95,
   "metadata": {},
   "outputs": [
    {
     "name": "stdout",
     "output_type": "stream",
     "text": [
      "{u'lessons_completed': 0, u'num_courses_visited': 2, u'total_minutes_visited': 25.9137858334, u'projects_completed': 0, 'account_key': u'108', u'utc_date': datetime.datetime(2015, 4, 20, 0, 0)}\n",
      "{u'lessons_completed': 0, u'num_courses_visited': 1, u'total_minutes_visited': 3.40682316667, u'projects_completed': 0, 'account_key': u'108', u'utc_date': datetime.datetime(2015, 4, 21, 0, 0)}\n",
      "{u'lessons_completed': 0, u'num_courses_visited': 2, u'total_minutes_visited': 99.1186611667, u'projects_completed': 0, 'account_key': u'108', u'utc_date': datetime.datetime(2015, 4, 22, 0, 0)}\n",
      "{u'lessons_completed': 0, u'num_courses_visited': 1, u'total_minutes_visited': 35.8316206667, u'projects_completed': 2, 'account_key': u'108', u'utc_date': datetime.datetime(2015, 4, 23, 0, 0)}\n",
      "{u'lessons_completed': 0, u'num_courses_visited': 0, u'total_minutes_visited': 0.0, u'projects_completed': 0, 'account_key': u'108', u'utc_date': datetime.datetime(2015, 4, 24, 0, 0)}\n",
      "{u'lessons_completed': 0, u'num_courses_visited': 0, u'total_minutes_visited': 0.0, u'projects_completed': 0, 'account_key': u'108', u'utc_date': datetime.datetime(2015, 4, 25, 0, 0)}\n",
      "{u'lessons_completed': 0, u'num_courses_visited': 0, u'total_minutes_visited': 0.0, u'projects_completed': 0, 'account_key': u'108', u'utc_date': datetime.datetime(2015, 4, 26, 0, 0)}\n"
     ]
    }
   ],
   "source": [
    "from collections import defaultdict\n",
    "\n",
    "# Create a dictionary of engagement grouped by student.\n",
    "# The keys are account keys, and the values are lists of engagement records.\n",
    "engagement_by_account = defaultdict(list)\n",
    "for engagement_record in paid_engagement_in_first_week:\n",
    "    account_key = engagement_record['account_key']\n",
    "    engagement_by_account[account_key].append(engagement_record)\n",
    "\n",
    "for engagement in engagement_by_account['108']:\n",
    "    print engagement"
   ]
  },
  {
   "cell_type": "code",
   "execution_count": 96,
   "metadata": {
    "collapsed": true
   },
   "outputs": [],
   "source": [
    "# Create a dictionary with the total minutes each student spent in the classroom during the first week.\n",
    "# The keys are account keys, and the values are numbers (total minutes)\n",
    "total_minutes_by_account = {}\n",
    "for account_key, engagement_for_student in engagement_by_account.items():\n",
    "    total_minutes = 0\n",
    "    for engagement_record in engagement_for_student:\n",
    "        total_minutes += engagement_record['total_minutes_visited']\n",
    "    total_minutes_by_account[account_key] = total_minutes"
   ]
  },
  {
   "cell_type": "code",
   "execution_count": 97,
   "metadata": {},
   "outputs": [
    {
     "name": "stdout",
     "output_type": "stream",
     "text": [
      "Mean: 306.708326753\n",
      "Standard deviation: 412.996933409\n",
      "Minimum: 0.0\n",
      "Maximum: 3564.7332645\n"
     ]
    }
   ],
   "source": [
    "import numpy as np\n",
    "\n",
    "# Summarize the data about minutes spent in the classroom\n",
    "total_minutes = total_minutes_by_account.values()\n",
    "for account in total_minutes_by_account:\n",
    "    if total_minutes_by_account[account] > 10000:\n",
    "        print account\n",
    "print 'Mean:', np.mean(total_minutes)\n",
    "print 'Standard deviation:', np.std(total_minutes)\n",
    "print 'Minimum:', np.min(total_minutes)\n",
    "print 'Maximum:', np.max(total_minutes)"
   ]
  },
  {
   "cell_type": "markdown",
   "metadata": {},
   "source": [
    "## Debugging Data Analysis Code"
   ]
  },
  {
   "cell_type": "code",
   "execution_count": 98,
   "metadata": {
    "collapsed": true
   },
   "outputs": [],
   "source": [
    "#####################################\n",
    "#                 8                 #\n",
    "#####################################\n",
    "\n",
    "## Go through a similar process as before to see if there is a problem.\n",
    "## Locate at least one surprising piece of data, output it, and take a look at it."
   ]
  },
  {
   "cell_type": "markdown",
   "metadata": {},
   "source": [
    "## Lessons Completed in First Week"
   ]
  },
  {
   "cell_type": "code",
   "execution_count": 99,
   "metadata": {},
   "outputs": [
    {
     "name": "stdout",
     "output_type": "stream",
     "text": [
      "lessons_completed_stats\n",
      "{'max': 36, 'min': 0, 'std_dev': 3.0025612998294231, 'mean': 1.636180904522613}\n",
      "projects_completed_stats\n",
      "{'max': 2, 'min': 0, 'std_dev': 0.089464173203086958, 'mean': 0.006030150753768844}\n",
      "num_courses_visited_stats\n",
      "{'max': 25, 'min': 0, 'std_dev': 3.5912451871028028, 'mean': 3.9788944723618092}\n",
      "total_minutes_visited_stats\n",
      "{'max': 3564.7332644989997, 'min': 0.0, 'std_dev': 412.99693340852957, 'mean': 306.70832675342825}\n"
     ]
    }
   ],
   "source": [
    "#####################################\n",
    "#                 9                 #\n",
    "#####################################\n",
    "\n",
    "## Adapt the code above to find the mean, standard deviation, minimum, and maximum for\n",
    "## the number of lessons completed by each student during the first week. Try creating\n",
    "## one or more functions to re-use the code above.\n",
    "##\n",
    "## 'engagement_by_account' contains all of the engagements in a week for one student\n",
    "##\n",
    "## The 'lessons_completed' key contains the number of lessons completed on the specific day \n",
    "## the engagement record was created. These will need to be summed into a 'total_lessons_per_student'\n",
    "## value.\n",
    "## \n",
    "## Other variables to look at are:\n",
    "## 'num_courses_visited', 'total_minutes_visited', 'projects_completed'\n",
    "\n",
    "def totals_by_variable(engagement_by_account, variable):\n",
    "    var_total_by_account = {}\n",
    "    for student, engagement_recs in engagement_by_account.items():\n",
    "        var_total = 0\n",
    "        for record in engagement_recs:\n",
    "            var_total += record[variable]\n",
    "        var_total_by_account[student] = var_total\n",
    "    return var_total_by_account\n",
    "        \n",
    "def stats_per_totals(totals_dictionary):\n",
    "    totals = totals_dictionary.values()\n",
    "    summary = {}\n",
    "    summary['mean'] = np.mean(totals)\n",
    "    summary['std_dev'] = np.std(totals)\n",
    "    summary['min'] = np.min(totals)\n",
    "    summary['max'] = np.max(totals)\n",
    "    return summary\n",
    "        \n",
    "lessons_completed_summary = totals_by_variable(engagement_by_account, 'lessons_completed')\n",
    "lessons_completed_stats = stats_per_totals(lessons_completed_summary)\n",
    "print \"lessons_completed_stats\\n\", lessons_completed_stats\n",
    "\n",
    "projects_completed_summary = totals_by_variable(engagement_by_account, 'projects_completed')\n",
    "projects_completed_stats = stats_per_totals(projects_completed_summary)\n",
    "print \"projects_completed_stats\\n\", projects_completed_stats\n",
    "\n",
    "num_courses_visited_summary = totals_by_variable(engagement_by_account, 'num_courses_visited')\n",
    "num_courses_visited_stats = stats_per_totals(num_courses_visited_summary)\n",
    "print \"num_courses_visited_stats\\n\", num_courses_visited_stats\n",
    "\n",
    "total_minutes_visited_summary = totals_by_variable(engagement_by_account, 'total_minutes_visited')\n",
    "total_minutes_visited_stats = stats_per_totals(total_minutes_visited_summary)\n",
    "print \"total_minutes_visited_stats\\n\", total_minutes_visited_stats\n"
   ]
  },
  {
   "cell_type": "markdown",
   "metadata": {},
   "source": [
    "## Number of Visits in First Week"
   ]
  },
  {
   "cell_type": "code",
   "execution_count": 100,
   "metadata": {},
   "outputs": [
    {
     "name": "stdout",
     "output_type": "stream",
     "text": [
      "has_visited_stats\n",
      "{'max': 7, 'min': 0, 'std_dev': 2.2551980029196814, 'mean': 2.8673366834170855}\n"
     ]
    }
   ],
   "source": [
    "######################################\n",
    "#                 10                 #\n",
    "######################################\n",
    "\n",
    "## Find the mean, standard deviation, minimum, and maximum for the number of\n",
    "## days each student visits the classroom during the first week.\n",
    "\n",
    "def create_has_visited(engagement_by_account):\n",
    "    '''Adds a has_visited field and sets it to 1 if the student visits at least 1 class'''\n",
    "    for account_key, engagement_for_student in engagement_by_account.items():\n",
    "        for engagement_record in engagement_for_student:\n",
    "            if engagement_record['num_courses_visited'] > 0:\n",
    "                engagement_record['has_visited'] = 1\n",
    "            else:\n",
    "                engagement_record['has_visited'] = 0\n",
    "    return engagement_by_account\n",
    "\n",
    "create_has_visited(engagement_by_account)\n",
    "\n",
    "has_visited_summary = totals_by_variable(engagement_by_account, 'has_visited')\n",
    "has_visited_stats = stats_per_totals(has_visited_summary)\n",
    "print \"has_visited_stats\\n\", has_visited_stats"
   ]
  },
  {
   "cell_type": "markdown",
   "metadata": {},
   "source": [
    "## Splitting out Passing Students"
   ]
  },
  {
   "cell_type": "code",
   "execution_count": 101,
   "metadata": {},
   "outputs": [
    {
     "name": "stdout",
     "output_type": "stream",
     "text": [
      "651 passing students\n",
      "4527\n",
      "2392\n"
     ]
    }
   ],
   "source": [
    "######################################\n",
    "#                 11                 #\n",
    "######################################\n",
    "\n",
    "subway_project_lesson_keys = ['746169184', '3176718735']\n",
    "passing_grades = ['PASSED', 'DISTINCTION']\n",
    "\n",
    "## Create a set of students that completed the subway project and got a PASSED or DISTINGUISHED grade\n",
    "passing_students = set()\n",
    "\n",
    "for record in non_udacity_submissions:\n",
    "    if record['lesson_key'] in subway_project_lesson_keys and record['assigned_rating'] in passing_grades:\n",
    "                  passing_students.add(record['account_key'])\n",
    "            \n",
    "print len(passing_students), \"passing students\"\n",
    "\n",
    "## Create two lists of engagement data for paid students in the first week.\n",
    "## The first list should contain data for students who eventually pass the\n",
    "## subway project, and the second list should contain data for students\n",
    "## who do not.\n",
    "passing_engagement = []\n",
    "non_passing_engagement = []\n",
    "\n",
    "for student_key, engagement_list in engagement_by_account.items():\n",
    "    for engagement in engagement_list:\n",
    "        if student_key in passing_students:\n",
    "            passing_engagement.append(engagement)\n",
    "        else:\n",
    "            non_passing_engagement.append(engagement)\n",
    "\n",
    "print len(passing_engagement)\n",
    "print len(non_passing_engagement)"
   ]
  },
  {
   "cell_type": "markdown",
   "metadata": {},
   "source": [
    "## Comparing the Two Student Groups"
   ]
  },
  {
   "cell_type": "code",
   "execution_count": 102,
   "metadata": {
    "scrolled": false
   },
   "outputs": [
    {
     "name": "stdout",
     "output_type": "stream",
     "text": [
      "passing_lessons_completed_stats\n",
      "{'max': 36, 'min': 0, 'std_dev': 3.1422270555779344, 'mean': 2.0525502318392581}\n",
      "non_passing_lessons_completed_stats\n",
      "{'max': 27, 'min': 0, 'std_dev': 2.5491599418312028, 'mean': 0.86206896551724133}\n",
      "-------\n",
      "passing_total_minutes_visited_stats\n",
      "{'max': 3564.7332644989997, 'min': 0.0, 'std_dev': 448.4995193265521, 'mean': 394.58604648350865}\n",
      "non_passing_total_minutes_visited_stats\n",
      "{'max': 1768.5227493319999, 'min': 0.0, 'std_dev': 269.53861901149509, 'mean': 143.32647426675584}\n",
      "-------\n",
      "passing_days_visited_stats\n",
      "{'max': 7, 'min': 0, 'std_dev': 2.2588214709184595, 'mean': 3.3848531684698608}\n",
      "non_passing_days_visited_stats\n",
      "{'max': 7, 'min': 0, 'std_dev': 1.9057314413619049, 'mean': 1.9051724137931034}\n",
      "-------\n"
     ]
    }
   ],
   "source": [
    "######################################\n",
    "#                 12                 #\n",
    "######################################\n",
    "\n",
    "def create_engagement_by_student(engagement_list):\n",
    "    '''Takes in a list of engagements and groups them by account_key\n",
    "    Returns a dictionary with {account_key: [list of engagements]}'''\n",
    "    engagement_by_student = defaultdict(list)\n",
    "    for engagement_record in engagement_list:\n",
    "        account_key = engagement_record['account_key']\n",
    "        engagement_by_student[account_key].append(engagement_record)\n",
    "    return engagement_by_student\n",
    "\n",
    "passing_engagement_by_account = create_engagement_by_student(passing_engagement)\n",
    "non_passing_engagement_by_account = create_engagement_by_student(non_passing_engagement)\n",
    "\n",
    "\n",
    "## Calculate some metrics of interest for both students that have, and have not, passed the Subway project.\n",
    "## - Minutes spent\n",
    "## - Days Visited\n",
    "## - Lessons completed\n",
    "\n",
    "passing_lessons_completed_summary = totals_by_variable(passing_engagement_by_account, 'lessons_completed')\n",
    "passing_lessons_completed_stats = stats_per_totals(passing_lessons_completed_summary)\n",
    "print \"passing_lessons_completed_stats\\n\", passing_lessons_completed_stats\n",
    "\n",
    "non_passing_lessons_completed_summary = totals_by_variable(non_passing_engagement_by_account, 'lessons_completed')\n",
    "non_passing_lessons_completed_stats = stats_per_totals(non_passing_lessons_completed_summary)\n",
    "print \"non_passing_lessons_completed_stats\\n\", non_passing_lessons_completed_stats\n",
    "print\"-------\"\n",
    "\n",
    "passing_total_minutes_visited_summary = totals_by_variable(passing_engagement_by_account, 'total_minutes_visited')\n",
    "passing_total_minutes_visited_stats = stats_per_totals(passing_total_minutes_visited_summary)\n",
    "print \"passing_total_minutes_visited_stats\\n\", passing_total_minutes_visited_stats\n",
    "\n",
    "non_passing_total_minutes_visited_summary = totals_by_variable(non_passing_engagement_by_account, 'total_minutes_visited')\n",
    "non_passing_total_minutes_visited_stats = stats_per_totals(non_passing_total_minutes_visited_summary)\n",
    "print \"non_passing_total_minutes_visited_stats\\n\", non_passing_total_minutes_visited_stats\n",
    "print\"-------\"\n",
    "\n",
    "passing_days_visited_summary = totals_by_variable(passing_engagement_by_account, 'has_visited')\n",
    "passing_days_visited_stats = stats_per_totals(passing_days_visited_summary)\n",
    "print \"passing_days_visited_stats\\n\", passing_days_visited_stats\n",
    "\n",
    "non_passing_days_visited_summary = totals_by_variable(non_passing_engagement_by_account, 'has_visited')\n",
    "non_passing_days_visited_stats = stats_per_totals(non_passing_days_visited_summary)\n",
    "print \"non_passing_days_visited_stats\\n\", non_passing_days_visited_stats\n",
    "print\"-------\"\n"
   ]
  },
  {
   "cell_type": "markdown",
   "metadata": {},
   "source": [
    "## Making Histograms"
   ]
  },
  {
   "cell_type": "code",
   "execution_count": 103,
   "metadata": {
    "scrolled": false
   },
   "outputs": [
    {
     "data": {
      "image/png": "[encoded data removed]",
      "text/plain": [
       "<matplotlib.figure.Figure at 0x70a089a4a490>"
      ]
     },
     "metadata": {},
     "output_type": "display_data"
    },
    {
     "data": {
      "image/png": "[encoded data removed]",
      "text/plain": [
       "<matplotlib.figure.Figure at 0x70a089bb3dd0>"
      ]
     },
     "metadata": {},
     "output_type": "display_data"
    },
    {
     "data": {
      "image/png": "[encoded data removed]",
      "text/plain": [
       "<matplotlib.figure.Figure at 0x70a07a45fe90>"
      ]
     },
     "metadata": {},
     "output_type": "display_data"
    },
    {
     "data": {
      "image/png": "[encoded data removed]",
      "text/plain": [
       "<matplotlib.figure.Figure at 0x70a07a1f0a10>"
      ]
     },
     "metadata": {},
     "output_type": "display_data"
    },
    {
     "data": {
      "image/png": "[encoded data removed]",
      "text/plain": [
       "<matplotlib.figure.Figure at 0x70a07a2cc7d0>"
      ]
     },
     "metadata": {},
     "output_type": "display_data"
    },
    {
     "data": {
      "image/png": "[encoded data removed]",
      "text/plain": [
       "<matplotlib.figure.Figure at 0x70a07a10d790>"
      ]
     },
     "metadata": {},
     "output_type": "display_data"
    }
   ],
   "source": [
    "######################################\n",
    "#                 13                 #\n",
    "######################################\n",
    "\n",
    "## Make histograms of the three metrics we looked at earlier for both\n",
    "## students who passed the subway project and students who didn't. You\n",
    "## might also want to make histograms of any other metrics you examined.\n",
    "#passed_lessons_completed_summary \n",
    "#non_passed_lessons_completed_summary \n",
    "\n",
    "#passing_lessons_completed_summary\n",
    "#non_passing_lessons_completed_summary\n",
    "\n",
    "#passing_total_minutes_visited_summary \n",
    "#non_passing_total_minutes_visited_summary\n",
    "\n",
    "#passing_days_visited_summary\n",
    "#non_passing_days_visited_summary\n",
    "\n",
    "\n",
    "%matplotlib inline\n",
    "import matplotlib\n",
    "#import seaborn as sns\n",
    "matplotlib.rcParams['font.family'] = 'DejaVu Sans'\n",
    "import matplotlib.pyplot as plt\n",
    "\n",
    "\n",
    "def plot_histogram(summary_data, title):\n",
    "    data = summary_data.values()\n",
    "    plt.hist(data)\n",
    "    plt.title(title)\n",
    "    plt.show()\n",
    "    \n",
    "plot_histogram(passing_lessons_completed_summary, 'Passing Lessons Completed')\n",
    "plot_histogram(non_passing_lessons_completed_summary, 'Non-Passing Lessons Completed')\n",
    "\n",
    "plot_histogram(passing_total_minutes_visited_summary, 'Passing Minutes Visited') \n",
    "plot_histogram(non_passing_total_minutes_visited_summary, 'Non-Passing Minutes Visited')\n",
    "\n",
    "plot_histogram(passing_days_visited_summary, 'Passing Days Visited')\n",
    "plot_histogram(non_passing_days_visited_summary, 'Non-Passing Days Visited')"
   ]
  },
  {
   "cell_type": "markdown",
   "metadata": {},
   "source": [
    "## Improving Plots and Sharing Findings"
   ]
  },
  {
   "cell_type": "code",
   "execution_count": 105,
   "metadata": {},
   "outputs": [
    {
     "data": {
      "image/png": "[encoded data removed]",
      "text/plain": [
       "<matplotlib.figure.Figure at 0x70a07a30cbd0>"
      ]
     },
     "metadata": {},
     "output_type": "display_data"
    },
    {
     "data": {
      "image/png": "[encoded data removed]",
      "text/plain": [
       "<matplotlib.figure.Figure at 0x70a07a2b0e50>"
      ]
     },
     "metadata": {},
     "output_type": "display_data"
    }
   ],
   "source": [
    "######################################\n",
    "#                 14                 #\n",
    "######################################\n",
    "\n",
    "## Make a more polished version of at least one of your visualizations\n",
    "## from earlier. Try importing the seaborn library to make the visualization\n",
    "## look better, adding axis labels and a title, and changing one or more\n",
    "## arguments to the hist() function.\n",
    "\n",
    "\n",
    "def plot_histogram(summary_data, title):\n",
    "    data = summary_data.values()\n",
    "    plt.hist(data, bins=8)\n",
    "    plt.xlabel(\"Days\")\n",
    "    plt.ylabel(\"Students\")\n",
    "    plt.title(title)\n",
    "    plt.show()\n",
    "    \n",
    "plot_histogram(passing_days_visited_summary, 'Passing Days Visited')\n",
    "plot_histogram(non_passing_days_visited_summary, 'Non-Passing Days Visited')"
   ]
  }
 ],
 "metadata": {
  "kernelspec": {
   "display_name": "Python 2",
   "language": "python",
   "name": "python2"
  },
  "language_info": {
   "codemirror_mode": {
    "name": "ipython",
    "version": 2
   },
   "file_extension": ".py",
   "mimetype": "text/x-python",
   "name": "python",
   "nbconvert_exporter": "python",
   "pygments_lexer": "ipython2",
   "version": "2.7.13"
  }
 },
 "nbformat": 4,
 "nbformat_minor": 1
}
