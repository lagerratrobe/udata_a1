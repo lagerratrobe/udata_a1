{
 "cells": [
  {
   "cell_type": "code",
   "execution_count": 4,
   "metadata": {},
   "outputs": [
    {
     "name": "stdout",
     "output_type": "stream",
     "text": [
      "Enrollments:\n",
      "{u'status': u'canceled', u'is_udacity': True, u'is_canceled': True, u'join_date': datetime.datetime(2014, 11, 10, 0, 0), u'account_key': u'448', u'cancel_date': datetime.datetime(2015, 1, 14, 0, 0), u'days_to_cancel': 65} \n",
      "\n",
      "Daily engagements:\n",
      "{u'lessons_completed': 0, u'num_courses_visited': 1, u'total_minutes_visited': 11.6793745, u'projects_completed': 0, u'acct': u'0', u'utc_date': datetime.datetime(2015, 1, 9, 0, 0)} \n",
      "\n",
      "Project Submissions:\n",
      "{u'lesson_key': u'3176718735', u'processing_state': u'EVALUATED', u'account_key': u'256', u'assigned_rating': u'UNGRADED', u'completion_date': datetime.datetime(2015, 1, 16, 0, 0), u'creation_date': datetime.datetime(2015, 1, 14, 0, 0)} \n",
      "\n"
     ]
    }
   ],
   "source": [
    "import unicodecsv\n",
    "from datetime import datetime as dt\n",
    "\n",
    "def get_recs(filename):\n",
    "    with open(filename, 'rb') as f:\n",
    "        f_reader = unicodecsv.DictReader(f)\n",
    "        f_list = list(f_reader)\n",
    "        return f_list\n",
    "    \n",
    "enrollments = get_recs('enrollments.csv')    \n",
    "daily_engagement = get_recs('daily_engagement.csv')\n",
    "project_submissions = get_recs('project_submissions.csv')\n",
    "\n",
    "# Takes a date as a string, and returns a Python datetime object. \n",
    "# If there is no date given, returns None\n",
    "def parse_date(date):\n",
    "    if date == '':\n",
    "        return None\n",
    "    else:\n",
    "        return dt.strptime(date, '%Y-%m-%d')\n",
    "\n",
    "# Takes a string which is either an empty string or represents an integer,\n",
    "# and returns an int or None.    \n",
    "def parse_maybe_int(i):\n",
    "    if i == '':\n",
    "        return None\n",
    "    else:\n",
    "        return int(i)\n",
    "\n",
    "# Clean up the data types in the enrollments table\n",
    "for enrollment in enrollments:\n",
    "    enrollment['cancel_date'] = parse_date(enrollment['cancel_date'])\n",
    "    enrollment['days_to_cancel'] = parse_maybe_int(enrollment['days_to_cancel'])\n",
    "    enrollment['is_canceled'] = enrollment['is_canceled'] == 'True'\n",
    "    enrollment['is_udacity'] = enrollment['is_udacity'] == 'True'\n",
    "    enrollment['join_date'] = parse_date(enrollment['join_date'])\n",
    "    \n",
    "# Clean up the data types in the engagement table\n",
    "for engagement_record in daily_engagement:\n",
    "    engagement_record['lessons_completed'] = int(float(engagement_record['lessons_completed']))\n",
    "    engagement_record['num_courses_visited'] = int(float(engagement_record['num_courses_visited']))\n",
    "    engagement_record['projects_completed'] = int(float(engagement_record['projects_completed']))\n",
    "    engagement_record['total_minutes_visited'] = float(engagement_record['total_minutes_visited'])\n",
    "    engagement_record['utc_date'] = parse_date(engagement_record['utc_date'])\n",
    "\n",
    "# Clean up the data types in the submissions table\n",
    "for submission in project_submissions:\n",
    "    submission['completion_date'] = parse_date(submission['completion_date'])\n",
    "    submission['creation_date'] = parse_date(submission['creation_date'])\n",
    "    \n",
    "print \"Enrollments:\\n\", enrollments[0],\"\\n\"\n",
    "print \"Daily engagements:\\n\", daily_engagement[0], \"\\n\"\n",
    "print \"Project Submissions:\\n\", project_submissions[0], \"\\n\" \n",
    "    "
   ]
  },
  {
   "cell_type": "code",
   "execution_count": 21,
   "metadata": {},
   "outputs": [
    {
     "name": "stdout",
     "output_type": "stream",
     "text": [
      "{'student_ct': 1302, 'row_ct': 1640}\n",
      "{'student_ct': 1237, 'row_ct': 136240}\n",
      "{'student_ct': 743, 'row_ct': 3642}\n"
     ]
    }
   ],
   "source": [
    "#####################################\n",
    "#                 2                 #\n",
    "#####################################\n",
    "\n",
    "## Find the total number of rows and the number of unique students (account keys)\n",
    "## in each table.\n",
    "def table_summary(table):\n",
    "    num_rows = len(table)\n",
    "    student_ids = []\n",
    "    for rec in table:\n",
    "        if 'account_key' in rec:\n",
    "            id = rec['account_key']\n",
    "        elif 'acct' in rec:\n",
    "            id = rec['acct']\n",
    "        if id not in student_ids:\n",
    "            student_ids.append(id)\n",
    "    return {'row_ct': num_rows, 'student_ct': len(student_ids)}\n",
    "\n",
    "print table_summary(enrollments)\n",
    "print table_summary(daily_engagement)\n",
    "print table_summary(project_submissions)"
   ]
  },
  {
   "cell_type": "markdown",
   "metadata": {},
   "source": [
    "## Use Sets instead\n",
    "While the code above works, it's more efficient to use a set, rather than check the list each time to see if the value is already in it."
   ]
  },
  {
   "cell_type": "code",
   "execution_count": 27,
   "metadata": {},
   "outputs": [
    {
     "name": "stdout",
     "output_type": "stream",
     "text": [
      "Row count: 1640, Student count: 1302\n",
      "Row count: 136240, Student count: 1237\n",
      "Row count: 3642, Student count: 743\n"
     ]
    }
   ],
   "source": [
    "## Find the total number of rows and the number of unique students (account keys)\n",
    "## in each table.\n",
    "def table_summary(table):\n",
    "    '''Using sets instead of checking list. Returns set of student ids and row count of table'''\n",
    "    num_rows = len(table)\n",
    "    student_ids = set()\n",
    "    for rec in table:\n",
    "        if 'account_key' in rec:\n",
    "            id = rec['account_key']\n",
    "        elif 'acct' in rec:\n",
    "            id = rec['acct']\n",
    "        student_ids.add(id)\n",
    "    return {'row_ct': num_rows, 'students': student_ids}\n",
    "\n",
    "# NOTE THAT WE\"LL WANT THESE LATER TO COMPARE SETS\n",
    "enrollment_summary = table_summary(enrollments)\n",
    "engagement_summary = table_summary(daily_engagement)\n",
    "project_summary = table_summary(project_submissions)\n",
    "\n",
    "for summary in [enrollment_summary, engagement_summary, project_summary]:\n",
    "    print \"Row count: %d, Student count: %d\" % (summary['row_ct'], len(summary['students']))"
   ]
  },
  {
   "cell_type": "code",
   "execution_count": 28,
   "metadata": {},
   "outputs": [
    {
     "data": {
      "text/plain": [
       "{'account_key': u'0',\n",
       " u'lessons_completed': 0,\n",
       " u'num_courses_visited': 1,\n",
       " u'projects_completed': 0,\n",
       " u'total_minutes_visited': 11.6793745,\n",
       " u'utc_date': datetime.datetime(2015, 1, 9, 0, 0)}"
      ]
     },
     "execution_count": 28,
     "metadata": {},
     "output_type": "execute_result"
    }
   ],
   "source": [
    "#####################################\n",
    "#                 3                 #\n",
    "#####################################\n",
    "\n",
    "## Rename the \"acct\" column in the daily_engagement table to \"account_key\".\n",
    "\n",
    "def key_rename(table, names):\n",
    "    '''Rename the \"acct\" column in the daily_engagement table to \"account_key\"'''\n",
    "    for rec in table:\n",
    "        old_name = names['old']\n",
    "        new_name = names['new']\n",
    "        if old_name in rec:\n",
    "            rec[new_name] = rec.pop(old_name)\n",
    "\n",
    "key_rename(daily_engagement, {'old':'acct', 'new':'account_key'})\n",
    "daily_engagement[0]"
   ]
  },
  {
   "cell_type": "code",
   "execution_count": 38,
   "metadata": {},
   "outputs": [
    {
     "name": "stdout",
     "output_type": "stream",
     "text": [
      "{u'status': u'canceled', u'is_udacity': False, u'is_canceled': True, u'join_date': datetime.datetime(2015, 4, 4, 0, 0), u'account_key': u'1145', u'cancel_date': datetime.datetime(2015, 4, 4, 0, 0), u'days_to_cancel': 0}\n"
     ]
    }
   ],
   "source": [
    "#####################################\n",
    "#                 4                 #\n",
    "#####################################\n",
    "\n",
    "## Find any one student enrollments where the student is missing from the daily engagement table.\n",
    "## Output that enrollment.\n",
    "\n",
    "enrolled_students = enrollment_summary['students']\n",
    "engaged_students = engagement_summary['students']\n",
    "missing_students = [x for x in enrolled_students if x not in engaged_students]\n",
    "\n",
    "for enrollment in enrollments:\n",
    "    if enrollment['account_key'] == missing_students[0]:\n",
    "        print enrollment\n",
    "\n"
   ]
  },
  {
   "cell_type": "code",
   "execution_count": 43,
   "metadata": {},
   "outputs": [
    {
     "name": "stdout",
     "output_type": "stream",
     "text": [
      "{u'status': u'canceled', u'is_udacity': True, u'is_canceled': True, u'join_date': datetime.datetime(2015, 1, 10, 0, 0), u'account_key': u'1304', u'cancel_date': datetime.datetime(2015, 3, 10, 0, 0), u'days_to_cancel': 59}\n",
      "{u'status': u'canceled', u'is_udacity': True, u'is_canceled': True, u'join_date': datetime.datetime(2015, 3, 10, 0, 0), u'account_key': u'1304', u'cancel_date': datetime.datetime(2015, 6, 17, 0, 0), u'days_to_cancel': 99}\n",
      "{u'status': u'current', u'is_udacity': True, u'is_canceled': False, u'join_date': datetime.datetime(2015, 2, 25, 0, 0), u'account_key': u'1101', u'cancel_date': None, u'days_to_cancel': None}\n"
     ]
    }
   ],
   "source": [
    "#####################################\n",
    "#                 5                 #\n",
    "#####################################\n",
    "\n",
    "## Find the number of surprising data points (enrollments missing from\n",
    "## the engagement table) that remain, if any. We're asking for the number of rows in the enrollments table \n",
    "## where the student stayed enrolled at least one day and there is no entry for that account key \n",
    "## in the daily engagement table\n",
    "for enrollment in enrollments:\n",
    "    if enrollment['account_key'] in missing_students:\n",
    "        if enrollment['days_to_cancel'] > 0 or not enrollment['is_canceled']:\n",
    "            print enrollment\n",
    "        \n",
    "        "
   ]
  },
  {
   "cell_type": "code",
   "execution_count": 54,
   "metadata": {},
   "outputs": [
    {
     "name": "stdout",
     "output_type": "stream",
     "text": [
      "1622\n",
      "135656\n",
      "3634\n",
      "{u'lessons_completed': 0, u'num_courses_visited': 1, u'total_minutes_visited': 11.6793745, u'projects_completed': 0, 'account_key': u'0', u'utc_date': datetime.datetime(2015, 1, 9, 0, 0)}\n"
     ]
    }
   ],
   "source": [
    "# Create a set of the account keys for all Udacity test accounts\n",
    "udacity_test_accounts = set()\n",
    "for enrollment in enrollments:\n",
    "    if enrollment['is_udacity']:\n",
    "        udacity_test_accounts.add(enrollment['account_key'])\n",
    "len(udacity_test_accounts)\n",
    "\n",
    "# Given some data with an account_key field, removes any records corresponding to Udacity test accounts\n",
    "def remove_udacity_accounts(data):\n",
    "    non_udacity_data = []\n",
    "    for data_point in data:\n",
    "        if data_point['account_key'] not in udacity_test_accounts:\n",
    "            non_udacity_data.append(data_point)\n",
    "    return non_udacity_data\n",
    "\n",
    "# Remove Udacity test accounts from all three tables\n",
    "non_udacity_enrollments = remove_udacity_accounts(enrollments)\n",
    "non_udacity_engagement = remove_udacity_accounts(daily_engagement)\n",
    "non_udacity_submissions = remove_udacity_accounts(project_submissions)\n",
    "\n",
    "print len(non_udacity_enrollments)\n",
    "print len(non_udacity_engagement)\n",
    "print len(non_udacity_submissions)\n",
    "\n",
    "print non_udacity_engagement[0]"
   ]
  },
  {
   "cell_type": "code",
   "execution_count": 52,
   "metadata": {},
   "outputs": [
    {
     "name": "stdout",
     "output_type": "stream",
     "text": [
      "{0:2015-01-09 00:00:00}\n"
     ]
    }
   ],
   "source": [
    "## Create a dictionary named paid_students containing all students who either\n",
    "## haven't canceled yet or who remained enrolled for more than 7 days. The keys\n",
    "## should be account keys, and the values should be the date the student enrolled.\n",
    "def find_paid_students():\n",
    "    paid_students = {}\n",
    "    for student in non_udacity_enrollments:\n",
    "        if not student['is_canceled'] or student['days_to_cancel'] > 7:\n",
    "            account_key = student['account_key'] \n",
    "            start_date = student['join_date']\n",
    "            if account_key not in paid_students or start_date > paid_students[account_key]:\n",
    "                paid_students[account_key] = start_date\n",
    "    return paid_students\n",
    "\n",
    "paid_students = find_paid_students()\n",
    "len(paid_students)\n",
    "print \"{0:%s}\" % (paid_students['0'])"
   ]
  },
  {
   "cell_type": "code",
   "execution_count": 62,
   "metadata": {},
   "outputs": [
    {
     "data": {
      "text/plain": [
       "6919"
      ]
     },
     "execution_count": 62,
     "metadata": {},
     "output_type": "execute_result"
    }
   ],
   "source": [
    "# Takes a student's join date and the date of a specific engagement record,\n",
    "# and returns True if that engagement record happened within one week\n",
    "# of the student joining.\n",
    "def within_one_week(join_date, engagement_date):\n",
    "    time_delta = engagement_date - join_date\n",
    "    return time_delta.days < 7 and time_delta.days >= 0\n",
    "\n",
    "## Create a list of rows from the engagement table including only rows where\n",
    "## the student is one of the paid students you just found, and the date is within\n",
    "## one week of the student's join date.\n",
    "def find_first_week_engagement(paid_students):\n",
    "    engagement_list = []\n",
    "    for student in paid_students:\n",
    "        join_date = paid_students[student]\n",
    "        for engagement in non_udacity_engagement:\n",
    "            if student == engagement['account_key']:\n",
    "                if within_one_week(join_date, engagement['utc_date']):\n",
    "                    engagement_list.append(engagement)\n",
    "    return engagement_list\n",
    "            \n",
    "paid_engagement_in_first_week = find_first_week_engagement(paid_students)\n",
    "len(paid_engagement_in_first_week)"
   ]
  },
  {
   "cell_type": "code",
   "execution_count": null,
   "metadata": {
    "collapsed": true
   },
   "outputs": [],
   "source": []
  }
 ],
 "metadata": {
  "kernelspec": {
   "display_name": "Python 2",
   "language": "python",
   "name": "python2"
  },
  "language_info": {
   "codemirror_mode": {
    "name": "ipython",
    "version": 2
   },
   "file_extension": ".py",
   "mimetype": "text/x-python",
   "name": "python",
   "nbconvert_exporter": "python",
   "pygments_lexer": "ipython2",
   "version": "2.7.13"
  }
 },
 "nbformat": 4,
 "nbformat_minor": 2
}
