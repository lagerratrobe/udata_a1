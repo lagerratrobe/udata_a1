{
 "cells": [
  {
   "cell_type": "code",
   "execution_count": 13,
   "metadata": {},
   "outputs": [
    {
     "name": "stdout",
     "output_type": "stream",
     "text": [
      "[   5 2328 6461 4787 4477 4979  496   27 4174 4665]\n"
     ]
    }
   ],
   "source": [
    "import numpy as np\n",
    "\n",
    "# Subway ridership for 5 stations on 10 different days\n",
    "#              Station   1     2     3     4     5\n",
    "ridership = np.array([[   0,    0,    2,    5,    0], # Day 1\n",
    "                      [1478, 3877, 3674, 2328, 2539], # Day 2\n",
    "                      [1613, 4088, 3991, 6461, 2691], # Day 3\n",
    "                      [1560, 3392, 3826, 4787, 2613], # Day 4\n",
    "                      [1608, 4802, 3932, 4477, 2705], # Day 5\n",
    "                      [1576, 3933, 3909, 4979, 2685], # Day 6\n",
    "                      [  95,  229,  255,  496,  201], # Day 7\n",
    "                      [   2,    0,    1,   27,    0], # Day 8\n",
    "                      [1438, 3785, 3589, 4174, 2215], # Day 9\n",
    "                      [1342, 4043, 4009, 4665, 3033]])# Day 10\n",
    "print ridership[:, 3]"
   ]
  },
  {
   "cell_type": "code",
   "execution_count": 3,
   "metadata": {},
   "outputs": [
    {
     "name": "stdout",
     "output_type": "stream",
     "text": [
      "2328\n",
      "--\n",
      "[[2328 2539]\n",
      " [6461 2691]]\n",
      "--\n",
      "[1478 3877 3674 2328 2539]\n"
     ]
    }
   ],
   "source": [
    "# Accessing elements\n",
    "if True:\n",
    "    print ridership[1, 3] # Row 1, Column 3\n",
    "    print \"--\"\n",
    "    print ridership[1:3, 3:5] # R1,C3 to R3,C5 (Note end values are non-inclusive. Actual stop R2, C4)\n",
    "    print \"--\"\n",
    "    print ridership[1, :] # Row 1, all columns"
   ]
  },
  {
   "cell_type": "code",
   "execution_count": 6,
   "metadata": {},
   "outputs": [
    {
     "name": "stdout",
     "output_type": "stream",
     "text": [
      "[1478 3877 3676 2333 2539]\n",
      "---\n",
      "[   0 1478 1613 1560 1608 1576   95    2 1438 1342]\n",
      "[   0 3877 4088 3392 4802 3933  229    0 3785 4043]\n",
      "[   0 5355 5701 4952 6410 5509  324    2 5223 5385]\n"
     ]
    }
   ],
   "source": [
    "# Vectorized operations on rows or columns\n",
    "if True:\n",
    "    print ridership[0, :] + ridership[1, :]\n",
    "    #   [   0,    0,    2,    5,    0]\n",
    "    # + [1478, 3877, 3674, 2328, 2539]\n",
    "    # = [1478, 3877, 3676, 2333, 2539]\n",
    "    print \"---\"\n",
    "    print ridership[:, 0]\n",
    "    print ridership[:, 1]\n",
    "    print ridership[:, 0] + ridership[:, 1]\n",
    "    "
   ]
  },
  {
   "cell_type": "code",
   "execution_count": 10,
   "metadata": {},
   "outputs": [
    {
     "name": "stdout",
     "output_type": "stream",
     "text": [
      "[[1 2 3]\n",
      " [4 5 6]\n",
      " [7 8 9]]\n",
      "--\n",
      "[[1 1 1]\n",
      " [2 2 2]\n",
      " [3 3 3]]\n",
      "--\n",
      "[[ 2  3  4]\n",
      " [ 6  7  8]\n",
      " [10 11 12]]\n"
     ]
    }
   ],
   "source": [
    "# Vectorized operations on entire arrays\n",
    "if True:\n",
    "    a = np.array([[1, 2, 3], [4, 5, 6], [7, 8, 9]])\n",
    "    print a\n",
    "    print \"--\"\n",
    "    print b\n",
    "    print \"--\"\n",
    "    b = np.array([[1, 1, 1], [2, 2, 2], [3, 3, 3]])\n",
    "    print a + b"
   ]
  },
  {
   "cell_type": "code",
   "execution_count": 15,
   "metadata": {},
   "outputs": [
    {
     "data": {
      "text/plain": [
       "(2342.5999999999999, 3239.9000000000001)"
      ]
     },
     "execution_count": 15,
     "metadata": {},
     "output_type": "execute_result"
    }
   ],
   "source": [
    "def mean_riders_for_max_station(ridership):\n",
    "    '''\n",
    "    Fill in this function to find the station with the maximum riders on the\n",
    "    first day, then return the mean riders per day for that station. Also\n",
    "    return the mean ridership overall for comparsion.\n",
    "    \n",
    "    Hint: NumPy's argmax() function might be useful:\n",
    "    http://docs.scipy.org/doc/numpy/reference/generated/numpy.argmax.html\n",
    "    '''\n",
    "    day1_max_station = ridership[0, :].argmax()\n",
    "    overall_mean = ridership.mean()\n",
    "    mean_for_max = ridership[:, day1_max_station].mean()\n",
    "    \n",
    "    return (overall_mean, mean_for_max)\n",
    "\n",
    "mean_riders_for_max_station(ridership)"
   ]
  }
 ],
 "metadata": {
  "kernelspec": {
   "display_name": "Python 2",
   "language": "python",
   "name": "python2"
  },
  "language_info": {
   "codemirror_mode": {
    "name": "ipython",
    "version": 2
   },
   "file_extension": ".py",
   "mimetype": "text/x-python",
   "name": "python",
   "nbconvert_exporter": "python",
   "pygments_lexer": "ipython2",
   "version": "2.7.13"
  }
 },
 "nbformat": 4,
 "nbformat_minor": 2
}
