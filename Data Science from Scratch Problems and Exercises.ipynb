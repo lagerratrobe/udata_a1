{
 "cells": [
  {
   "cell_type": "markdown",
   "metadata": {},
   "source": [
    "The example below shows 3 interesting things.  The first is the use of a lamba, or \"anonymous function).  Here, \"decile\" is acting as a function which takes a variable, \"the_grade\", as input and divides it by 10.\n",
    "\n",
    "The second is the use of list comprehension to create the \"histogram\" dictionary. \"histogram\" is created by looping through the \"grades\" list and sending each element to the 'decile' lambda. \n",
    "\n",
    "The third is the use of \"Counter\" to count the number of occurences of grades that fall in a particular decile."
   ]
  },
  {
   "cell_type": "code",
   "execution_count": 3,
   "metadata": {},
   "outputs": [
    {
     "data": {
      "text/plain": [
       "Counter({0: 2, 60: 1, 70: 3, 80: 4, 90: 2, 100: 1})"
      ]
     },
     "execution_count": 3,
     "metadata": {},
     "output_type": "execute_result"
    }
   ],
   "source": [
    "from __future__ import division\n",
    "from collections import Counter\n",
    "%matplotlib inline\n",
    "import matplotlib\n",
    "import seaborn as sns\n",
    "matplotlib.rcParams['font.family'] = 'DejaVu Sans'\n",
    "import matplotlib.pyplot as plt\n",
    "\n",
    "grades = [83,95,91,87,70,0,85,82,100,67,73,77,0]\n",
    "decile = lambda the_grade: the_grade // 10 * 10\n",
    "histogram = Counter(decile(grade) for grade in grades)\n",
    "histogram"
   ]
  },
  {
   "cell_type": "code",
   "execution_count": 5,
   "metadata": {},
   "outputs": [
    {
     "data": {
      "text/plain": [
       "Counter({'i': 4, 'm': 1, 'p': 2, 's': 4})"
      ]
     },
     "execution_count": 5,
     "metadata": {},
     "output_type": "execute_result"
    }
   ],
   "source": [
    "# Another Counter example\n",
    "\n",
    "word = 'mississippi'\n",
    "letter_count = Counter(letter for letter in word)\n",
    "letter_count"
   ]
  },
  {
   "cell_type": "code",
   "execution_count": 75,
   "metadata": {},
   "outputs": [
    {
     "data": {
      "image/png": "[encoded data removed]",
      "text/plain": [
       "<matplotlib.figure.Figure at 0x74e144352910>"
      ]
     },
     "metadata": {},
     "output_type": "display_data"
    }
   ],
   "source": [
    "years = [1950, 1960, 1970, 1980, 1990, 2000, 2010]\n",
    "gdp = [300.2, 543.3, 1075.9, 2862.5, 5979.6, 10289.7, 14958.3]\n",
    "\n",
    "plt.plot(years, gdp, color='green', marker='o', linestyle='solid')\n",
    "\n",
    "plt.title(\"Nominal GDP\")\n",
    "\n",
    "plt.ylabel(\"Billions of $\")\n",
    "plt.show()"
   ]
  },
  {
   "cell_type": "code",
   "execution_count": 85,
   "metadata": {},
   "outputs": [
    {
     "data": {
      "image/png": "[encoded data removed]",
      "text/plain": [
       "<matplotlib.figure.Figure at 0x74e10f7fd850>"
      ]
     },
     "metadata": {},
     "output_type": "display_data"
    }
   ],
   "source": [
    "#years = [1950, 1960, 1970, 1980, 1990, 2000, 2010]\n",
    "#gdp = [300.2, 543.3, 1075.9, 2862.5, 5979.6, 10289.7, 14958.3]\n",
    "\n",
    "gdp_data = {1960: 543.3, 1950: 300.2, 1970: 1075.9, 1980: 2862.5, 1990: 5979.6, 2000: 10289.7, 2010: 14958.3}\n",
    "\n",
    "[plt.plot(yrs, gdps, color='green', marker='o', linestyle='solid') for yrs, gdps in gdp_data.items()] \n",
    "    \n",
    "plt.title(\"Nominal GDP\")\n",
    "plt.ylabel(\"Billions of $\")\n",
    "plt.show()\n",
    "\n",
    "# NOTE that we don't get the solid line this way, probably because we're stacking points in the plot\n",
    "# ALSO NOTE that because the axis takes care of ordering, we can use a unordered dictionary and it plots right"
   ]
  },
  {
   "cell_type": "code",
   "execution_count": 73,
   "metadata": {},
   "outputs": [
    {
     "data": {
      "image/png": "[encoded data removed]",
      "text/plain": [
       "<matplotlib.figure.Figure at 0x74e1443a2f10>"
      ]
     },
     "metadata": {},
     "output_type": "display_data"
    }
   ],
   "source": [
    "\n",
    "movies = ['Annie','Ben','Casa','Gandhi','West-Side']\n",
    "num_oscars = [5,11,3,8,10]\n",
    "\n",
    "xs = [i + 0.1 for i, _ in enumerate(movies)]\n",
    "plt.bar(xs, num_oscars)\n",
    "plt.show()"
   ]
  },
  {
   "cell_type": "markdown",
   "metadata": {},
   "source": [
    "Practice with \"enumerate\", which creates an enumeration of a list that associates an index value with the list elelemt."
   ]
  },
  {
   "cell_type": "code",
   "execution_count": 56,
   "metadata": {},
   "outputs": [
    {
     "name": "stdout",
     "output_type": "stream",
     "text": [
      "{0: 'zero', 1: 'one', 2: 'two', 3: 'three', 4: 'four', 5: 'five'}\n",
      "---------------\n",
      "[0, 1, 2, 3, 4, 5]\n",
      "['zero', 'one', 'two', 'three', 'four', 'five']\n"
     ]
    }
   ],
   "source": [
    "## Creating a dictionary using enumerate\n",
    "\n",
    "my_list = ['zero','one','two','three','four','five']\n",
    "foo = {i: j for i, j in enumerate(my_list)}\n",
    "print foo\n",
    "print '---------------'\n",
    "\n",
    "# Creating a list of the index values for each element\n",
    "my_index = []\n",
    "element = []\n",
    "for index_i, _ in enumerate(my_list):\n",
    "    my_index.append(index_i)\n",
    "    \n",
    "print my_index\n",
    "print my_list"
   ]
  },
  {
   "cell_type": "code",
   "execution_count": 72,
   "metadata": {},
   "outputs": [
    {
     "name": "stdout",
     "output_type": "stream",
     "text": [
      "2 10\n"
     ]
    }
   ],
   "source": [
    "# How can I determine the index position of the highest element in a list?\n",
    "\n",
    "import numpy as np\n",
    "\n",
    "foo = np.array([1,4,10,6,8,2])\n",
    "highest_i = foo.argmax()\n",
    "\n",
    "print highest_i, foo[highest_i]"
   ]
  },
  {
   "cell_type": "code",
   "execution_count": 1,
   "metadata": {},
   "outputs": [
    {
     "data": {
      "text/plain": [
       "[(1, 'one'), (2, 'two'), (3, 'three'), (4, 'four')]"
      ]
     },
     "execution_count": 1,
     "metadata": {},
     "output_type": "execute_result"
    }
   ],
   "source": [
    "# Some fancy-ass \"zip\" fu here\n",
    "\n",
    "var1 = [1, 2, 3, 4]\n",
    "var2 = ['one', 'two', 'three', 'four']\n",
    "\n",
    "zip(var1, var2)"
   ]
  }
 ],
 "metadata": {
  "kernelspec": {
   "display_name": "Python 2",
   "language": "python",
   "name": "python2"
  },
  "language_info": {
   "codemirror_mode": {
    "name": "ipython",
    "version": 2
   },
   "file_extension": ".py",
   "mimetype": "text/x-python",
   "name": "python",
   "nbconvert_exporter": "python",
   "pygments_lexer": "ipython2",
   "version": "2.7.13"
  }
 },
 "nbformat": 4,
 "nbformat_minor": 2
}
